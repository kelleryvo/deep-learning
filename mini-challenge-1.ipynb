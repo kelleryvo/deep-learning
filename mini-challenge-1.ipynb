{
 "cells": [
  {
   "cell_type": "markdown",
   "metadata": {},
   "source": [
    "# Deep Learning - Mini Challenge 1\n",
    "**Author**: Yvo Keller\n",
    "\n",
    "**Semester**: FS23"
   ]
  },
  {
   "cell_type": "markdown",
   "metadata": {},
   "source": [
    "## Imports"
   ]
  },
  {
   "cell_type": "code",
   "execution_count": 2,
   "metadata": {
    "ExecuteTime": {
     "end_time": "2023-04-12T22:34:01.994436Z",
     "start_time": "2023-04-12T22:34:00.704217Z"
    }
   },
   "outputs": [],
   "source": [
    "import os\n",
    "os.environ['PYTORCH_ENABLE_MPS_FALLBACK'] = '1'\n",
    "\n",
    "import torch\n",
    "import torch.nn as nn\n",
    "import torch.nn.functional as F\n",
    "import torchvision\n",
    "import torchmetrics\n",
    "\n",
    "import lightning as li\n",
    "from lightning.pytorch.callbacks import TQDMProgressBar\n",
    "from lightning.pytorch.loggers import WandbLogger\n",
    "\n",
    "import wandb\n",
    "import matplotlib.pyplot as plt\n",
    "import numpy as np"
   ]
  },
  {
   "cell_type": "code",
   "execution_count": 3,
   "metadata": {
    "ExecuteTime": {
     "end_time": "2023-04-12T22:34:02.003565Z",
     "start_time": "2023-04-12T22:34:01.995143Z"
    }
   },
   "outputs": [
    {
     "name": "stdout",
     "output_type": "stream",
     "text": [
      "Environment Info\n",
      " | Device: mbp-von-yvo.edu.ds.fhnw.ch\n",
      " | MPS Device: mps\n",
      " | CPU Threads: 12\n"
     ]
    }
   ],
   "source": [
    "print(f\"Environment Info\")\n",
    "\n",
    "# Device\n",
    "print(f\" | Device: {os.uname().nodename}\")\n",
    "\n",
    "# GPU Env Info\n",
    "if not torch.backends.mps.is_available():\n",
    "    if not torch.backends.mps.is_built():\n",
    "        print(\"MPS not available because the current PyTorch install was not \"\n",
    "              \"built with MPS enabled.\")\n",
    "    else:\n",
    "        print(\"MPS not available because the current MacOS version is not 12.3+ \"\n",
    "              \"and/or you do not have an MPS-enabled device on this machine.\")\n",
    "\n",
    "else:\n",
    "    mps_device = torch.device(\"mps\")\n",
    "    print(f\" | MPS Device: {mps_device}\")\n",
    "\n",
    "# CPU Env Info\n",
    "print(f\" | CPU Threads: {torch.get_num_threads()}\")"
   ]
  },
  {
   "cell_type": "code",
   "execution_count": 4,
   "metadata": {
    "ExecuteTime": {
     "end_time": "2023-04-12T22:34:02.972862Z",
     "start_time": "2023-04-12T22:34:02.023352Z"
    }
   },
   "outputs": [
    {
     "name": "stderr",
     "output_type": "stream",
     "text": [
      "\u001b[34m\u001b[1mwandb\u001b[0m: Currently logged in as: \u001b[33myvokeller\u001b[0m (\u001b[33msensor-based-activity-recognition\u001b[0m). Use \u001b[1m`wandb login --relogin`\u001b[0m to force relogin\n"
     ]
    },
    {
     "data": {
      "text/plain": [
       "True"
      ]
     },
     "execution_count": 4,
     "metadata": {},
     "output_type": "execute_result"
    }
   ],
   "source": [
    "# Initialize Weights & Biases\n",
    "os.environ['WANDB_NOTEBOOK_NAME'] = 'mini-challenge-1.ipynb'\n",
    "wandb.login()"
   ]
  },
  {
   "cell_type": "markdown",
   "metadata": {},
   "source": [
    "# Schritt 1: Auswahl Task / Datensatz \n",
    "\n",
    "1. Mache Dir Gedanken, mit welchen Daten Du arbeiten möchtest und welcher Task gelernt werden soll.  \n",
    "2. Diskutiere die Idee mit dem Fachcoach.  \n",
    "\n",
    "\n",
    "**Absprache mit Fachcoach**:\n",
    "\n",
    "- Deadline: 20. April 2023\n",
    "- Task: Klassifizierung des CIFAR-10 Datensatzes (32x32 Bilder von 10 Klassen)\n",
    "- Nutzung von W&B zur Model Evaluation\n",
    "- [Deep Learning Vorlesungen](https://fleuret.org/dlc/) von Francois Fleuret als Grundlage\n"
   ]
  },
  {
   "cell_type": "markdown",
   "metadata": {},
   "source": [
    "# Schritt 2: Daten Kennenlernen \n",
    "1. Mache Dich mit dem Datensatz vertraut, indem Du eine (kurze) explorative Analyse der Features durchführst: z.B. Vergleich der Klassen pro Feature, Balanciertheit der Klassen. \n",
    "2. Führe ein geeignetes Preprocessing durch, z.B. Normalisierung der Daten."
   ]
  },
  {
   "cell_type": "markdown",
   "metadata": {},
   "source": [
    "## Load & Preprocess Dataset "
   ]
  },
  {
   "cell_type": "code",
   "execution_count": 5,
   "metadata": {
    "ExecuteTime": {
     "end_time": "2023-04-12T22:34:21.006608Z",
     "start_time": "2023-04-12T22:34:19.867684Z"
    }
   },
   "outputs": [
    {
     "name": "stdout",
     "output_type": "stream",
     "text": [
      "Files already downloaded and verified\n",
      "Files already downloaded and verified\n"
     ]
    }
   ],
   "source": [
    "transform = torchvision.transforms.Compose([\n",
    "    # 1. transform to pytorch Tensor, which also scales the values to [0, 1]\n",
    "    torchvision.transforms.ToTensor(), \n",
    "    # 2. normalize the tensor with mean (0.5, 0.5, 0.5) and standard deviation (0.5, 0.5, 0.5) for each of the three color channels (RGB) of the image\n",
    "    torchvision.transforms.Normalize((0.5, 0.5, 0.5), (0.5, 0.5, 0.5)) \n",
    "])\n",
    "\n",
    "trainset = torchvision.datasets.CIFAR10(root='./data', train=True, download=True, transform=transform)\n",
    "testset = torchvision.datasets.CIFAR10(root='./data', train=False, download=True, transform=transform)\n",
    "\n",
    "classes = ('plane', 'car', 'bird', 'cat', 'deer', 'dog', 'frog', 'horse', 'ship', 'truck')"
   ]
  },
  {
   "cell_type": "code",
   "execution_count": 6,
   "metadata": {
    "ExecuteTime": {
     "end_time": "2023-04-12T22:34:21.010048Z",
     "start_time": "2023-04-12T22:34:21.008663Z"
    }
   },
   "outputs": [],
   "source": [
    "def get_dataloaders(batch_size, shuffle=False):\n",
    "    train_dataloader = torch.utils.data.DataLoader(\n",
    "        trainset, \n",
    "        batch_size=batch_size, \n",
    "        num_workers=12,\n",
    "        shuffle=shuffle, \n",
    "        pin_memory=True,\n",
    "    )\n",
    "\n",
    "    val_dataloader = torch.utils.data.DataLoader(\n",
    "        testset,\n",
    "        batch_size=batch_size, \n",
    "        num_workers=12,\n",
    "        shuffle=shuffle,\n",
    "        pin_memory=True,\n",
    "    )\n",
    "\n",
    "    return train_dataloader, val_dataloader"
   ]
  },
  {
   "cell_type": "markdown",
   "metadata": {},
   "source": [
    "## Explorative Data Analysis"
   ]
  },
  {
   "cell_type": "markdown",
   "metadata": {},
   "source": [
    "### Looking at some images"
   ]
  },
  {
   "cell_type": "code",
   "execution_count": 7,
   "metadata": {
    "ExecuteTime": {
     "end_time": "2023-04-12T22:34:21.233801Z",
     "start_time": "2023-04-12T22:34:21.012331Z"
    }
   },
   "outputs": [
    {
     "data": {
      "image/png": "[encoded data removed]",
      "text/plain": [
       "<Figure size 400x400 with 4 Axes>"
      ]
     },
     "metadata": {},
     "output_type": "display_data"
    }
   ],
   "source": [
    "# Plot an image from the dataset\n",
    "def plot_image(id, dataset):\n",
    "    img = dataset.data[id]\n",
    "\n",
    "    fig, axs = plt.subplots(2, 2, figsize=(4, 4))\n",
    "    axs = axs.flatten()\n",
    "\n",
    "    axs[0].imshow(img)\n",
    "    axs[0].set_title(dataset.classes[dataset.targets[id]])\n",
    "\n",
    "    axs[1].imshow(img[:,:,0], cmap='Reds')\n",
    "    axs[1].set_title('Red channel')\n",
    "\n",
    "    axs[2].imshow(img[:,:,1], cmap='Greens')\n",
    "    axs[2].set_title('Green channel')\n",
    "\n",
    "    axs[3].imshow(img[:,:,2], cmap='Blues')\n",
    "    axs[3].set_title('Blue channel')\n",
    "\n",
    "    plt.tight_layout()\n",
    "    plt.show()\n",
    "\n",
    "plot_image(0, trainset)"
   ]
  },
  {
   "cell_type": "code",
   "execution_count": 8,
   "metadata": {
    "ExecuteTime": {
     "end_time": "2023-04-12T22:34:21.478619Z",
     "start_time": "2023-04-12T22:34:21.237857Z"
    }
   },
   "outputs": [
    {
     "data": {
      "image/png": "[encoded data removed]",
      "text/plain": [
       "<Figure size 600x450 with 15 Axes>"
      ]
     },
     "metadata": {},
     "output_type": "display_data"
    }
   ],
   "source": [
    "def image_gallery(n_rows=2):\n",
    "    fig_width = 6\n",
    "    fig_height = 3 * n_rows / 2\n",
    "    fig, axs = plt.subplots(n_rows, 5, figsize=(fig_width, fig_height))\n",
    "    axs = axs.flatten()\n",
    "\n",
    "    for i in range(n_rows*5):\n",
    "        img = trainset.data[i]\n",
    "        axs[i].imshow(img)\n",
    "        axs[i].set_title(trainset.classes[trainset.targets[i]])\n",
    "        axs[i].axis('off')\n",
    "\n",
    "    plt.tight_layout()\n",
    "    plt.show()\n",
    "\n",
    "image_gallery(3)"
   ]
  },
  {
   "cell_type": "markdown",
   "metadata": {},
   "source": [
    "### Class Distribution\n",
    "\n",
    "As expected based on the dataset's description, the CIFAR10 dataset includes 50'000 images for each class in the training dataset and is therefore balanced."
   ]
  },
  {
   "cell_type": "code",
   "execution_count": 9,
   "metadata": {
    "ExecuteTime": {
     "end_time": "2023-04-12T22:34:21.619666Z",
     "start_time": "2023-04-12T22:34:21.486129Z"
    }
   },
   "outputs": [
    {
     "name": "stdout",
     "output_type": "stream",
     "text": [
      "{6: 5000, 9: 5000, 4: 5000, 1: 5000, 2: 5000, 7: 5000, 8: 5000, 3: 5000, 5: 5000, 0: 5000}\n"
     ]
    },
    {
     "data": {
      "image/png": "[encoded data removed]",
      "text/plain": [
       "<Figure size 500x300 with 1 Axes>"
      ]
     },
     "metadata": {},
     "output_type": "display_data"
    },
    {
     "name": "stdout",
     "output_type": "stream",
     "text": [
      "{3: 1000, 8: 1000, 0: 1000, 6: 1000, 1: 1000, 9: 1000, 5: 1000, 7: 1000, 4: 1000, 2: 1000}\n"
     ]
    },
    {
     "data": {
      "image/png": "[encoded data removed]",
      "text/plain": [
       "<Figure size 500x300 with 1 Axes>"
      ]
     },
     "metadata": {},
     "output_type": "display_data"
    }
   ],
   "source": [
    "# Check the distribution of the classes in the training set\n",
    "def show_class_distribution(dataset):\n",
    "    class_count_dict = {}\n",
    "    for i in range(len(dataset.targets)):\n",
    "        if dataset.targets[i] in class_count_dict:\n",
    "            class_count_dict[dataset.targets[i]] += 1\n",
    "        else:\n",
    "            class_count_dict[dataset.targets[i]] = 1\n",
    "    for i in range(10):\n",
    "        if i not in class_count_dict:\n",
    "            class_count_dict[i] = 0\n",
    "\n",
    "    print(class_count_dict)\n",
    "\n",
    "    # plot bar plot with target labels\n",
    "    plt.bar(range(len(class_count_dict)), list(class_count_dict.values()), align='center')\n",
    "    plt.xticks(range(len(class_count_dict)), dataset.classes, rotation=90)\n",
    "    plt.xlabel('Class')\n",
    "    plt.ylabel('Number of images')\n",
    "    plt.title('Class distribution in dataset')\n",
    "\n",
    "    fig = plt.gcf()\n",
    "    fig.set_size_inches(5, 3)\n",
    "\n",
    "    plt.show()\n",
    "\n",
    "show_class_distribution(trainset)\n",
    "show_class_distribution(testset)"
   ]
  },
  {
   "cell_type": "markdown",
   "metadata": {},
   "source": [
    "# Schritt 3: Aufbau Modellierung\n",
    "\n",
    "Metriken zur Evaluierung:\n",
    "- Accuracy\n",
    "- F1-Score\n",
    "\n",
    "1. Lege fest, wie (mit welchen Metriken) Du Modelle evaluieren möchtest. \n",
    "Berücksichtige auch den Fehler in der Schätzung dieser Metriken.  \n",
    "2. Implementiere Basisfunktionalität, um Modelle zu trainieren und gegeneinander zu \n",
    "evaluieren.  \n",
    "Empfehlenswert ist die Verwendung einer geeigneten MLOps Plattform (z.B. W&B) \n",
    "3. Teste Modelle und Trainingsfunktionalität, indem Du nur mit einem einzigen Sample \n",
    "oder einem Batch trainierst. Damit bekommst Du zwar Overfitting, aber auch einen \n",
    "guten Test, der zeigt dass Information aus den Daten aufgenommen werden kann.\n",
    "\n",
    "Notes:\n",
    "- Komplexität/Tiefe des Modells variieren\n",
    "- Bei CNN: Filter Grössen variieren\n",
    "- Hyperparameter -> Tuning reicht bei einem Modell"
   ]
  },
  {
   "cell_type": "markdown",
   "metadata": {},
   "source": [
    "## Wahl der Evaluierungsmetriken\n",
    "\n",
    "Ich wähle als Evaluierungsmetrik für meine Deep Learning Modelle auf dem CIFAR-10 Datensatz die **Accuracy**. CIFAR-10 besteht, wie ich im Schritt 2 überprüft habe, aus 10 gleichmässig verteilten Klassen, wobei jede Klasse die gleiche Anzahl von Samples enthält. Damit ist die Accuracy ein angemessene Metrik für die Model Performance - sie misst den Anteil der korrekt klassifizierten Samples im Vergleich zur Gesamtanzahl der Samples. Die Accuracy kann wie folgt definiert werden:\n",
    "\n",
    "$$\n",
    "\\text{Accuracy} = \\frac{\\text{Anzahl der korrekt klassifizierten Samples}}{\\text{Gesamtanzahl der Samples}}\n",
    "$$\n",
    "\n",
    "Der **F1-Score** ist ein weiterer möglicher Kandidat als Evaluierungsmetrik, und misst das harmonische Mittel von Precision und Recall. In Szenarien, in denen der Datensatz unausgeglichen ist oder die Leistung des Modells in Bezug auf bestimmte Klassen von besonderem Interesse ist, kann der F1-Score nützlich sein. Da der CIFAR-10 Datensatz jedoch ausgeglichen ist und ich keine spezielle Anforderung an bestimmte Klassen habe, bietet der F1-Score keinen zusätzlichen Vorteil gegenüber der Accuracy.\n",
    "\n",
    "\n",
    "## Schätzung des Fehlers\n",
    "\n",
    "Hat man ein Modell 1 mal trainiert, kann nicht mit Sicherheit gesagt werden, dass die resultierende Accuracy des Modells genau dem entspricht. Trainiert man das Modell ein zweites Mal mit den gleichen Daten, wird eine etwas andere Accuracy resultieren. Dies hängt mit dem Random State (initialisierung der weights, train/test split, ...) zusammen.\n",
    "\n",
    "Es macht deshalb Sinn, die Variabilität der Model Performance abzuschätzen. Dazu gibt es mehrere Methoden, von denen ich 3 kurz aufzeigen will.\n",
    "\n",
    "1. **Mehrere Runs**: Um die Variabilität der Model Performance zu schätzen und ein besseres Verständnis dafür zu bekommen, wie das Modell auf unterschiedliche Trainingsbedingungen reagiert, kann man ein Model mehrmals (z. B. 10 Runs) mit unterschiedlichem Random State und/oder verschiedenen Trainings-/Testdaten-Splits trainieren und evaluieren. Durch das Berechnen des Durchschnitts und der Standardabweichung der Accuracy über alle Runs erhält man eine Schätzung der Model Performance über verschiedene Trainingsbedingungen.\n",
    "\n",
    "2. **Cross-Validation**: Eine weitere Methode zur Bewertung der Model Performance und Abschätzung ihrer Unsicherheit ist k-Fold Cross-Validation. Dabei wird der Datensatz in k gleiche Teile (Folds) aufgeteilt und das Modell k-mal trainiert und validiert. In jedem Durchlauf wird jeweils ein Fold als Validierungsdatensatz und die verbleibenden k-1 Folds als Trainingsdatensatz verwendet. Nach Abschluss der k Iterationen kann man den Durchschnitt und die Standardabweichung der Accuracy über alle Folds berechnen, um Einblick in die Stabilität der Model Performance über verschiedene Trainings-/Validierungsdaten-Splits zu erhalten.\n",
    "\n",
    "Beide Methoden erfordern zusätzliche Rechenzeit und Ressourcen, insbesondere bei grossen Datensätzen und komplexen Modellen. Eine weitere Möglichkeit, die ich gefunden habe, und die nur einen Run erfordert, ist die Berechnung des Konfidenzintervalls mittels Wilson Score.\n",
    "\n",
    "3. **Wilson Score Interval**: Um den Fehler in der Schätzung der Accuracy zu berücksichtigen, kann man das Konfidenzintervall berechnen. Dieses gibt an, in welchem Bereich man den wahren Wert der Accuracy mit einer bestimmten Wahrscheinlichkeit (z.B. 95 %) erwarten kann. Es resultiert in einer oberen und unteren Grenze, die man zusätzlich zur Accuracy angeben kann."
   ]
  },
  {
   "cell_type": "markdown",
   "metadata": {},
   "source": [
    "## Testen der Trainingsfunktionalität\n",
    "\n",
    "Ich trainiere ein einfaches Modell auf nur einem Batch."
   ]
  },
  {
   "cell_type": "code",
   "execution_count": 10,
   "metadata": {
    "ExecuteTime": {
     "end_time": "2023-04-12T22:34:21.623289Z",
     "start_time": "2023-04-12T22:34:21.621919Z"
    }
   },
   "outputs": [],
   "source": [
    "class SimpleCNN(li.LightningModule):\n",
    "    \"\"\"\n",
    "    A simple convolutional neural network (CNN) for image classification tasks.\n",
    "    \"\"\"\n",
    "\n",
    "    def __init__(self, learning_rate, optimizer):\n",
    "        super().__init__()\n",
    "\n",
    "        # Save hyperparameters\n",
    "        self._learning_rate = learning_rate\n",
    "        self._optimizer = optimizer\n",
    "\n",
    "        # Initialize the network layers\n",
    "        # @ Define the CNN architecture with a single convolutional layer, 3 input channels (RGB) and 16 output channels (filters)\n",
    "        self.conv1 = nn.Conv2d(\n",
    "            in_channels=3, out_channels=16, kernel_size=3, padding=1\n",
    "        )  # from dimension (batch_size, 3, H, W) to (batch_size, 16, H, W)\n",
    "\n",
    "        # @ Using max-pooling layer to keep only the max value in each 2x2 (size=2) window of the 16 filters, moving 2 pixels at a time (stride=2)\n",
    "        self.pool = nn.MaxPool2d(\n",
    "            kernel_size=2, stride=2\n",
    "        )  # from dimension (batch_size, 16, H, W) to (batch_size, 16, H/2, W/2)\n",
    "\n",
    "        # @ Fully connected output layer\n",
    "        self.fc1 = nn.Linear(\n",
    "            16 * 16 * 16, 10\n",
    "        )  # takes (batch_size, 16, H/2, W/2) to (batch_size, 10) for our classification task\n",
    "\n",
    "        # Initialize metrics\n",
    "        self.train_accuracy = torchmetrics.Accuracy(task=\"multiclass\", num_classes=10)\n",
    "        self.val_accuracy = torchmetrics.Accuracy(task=\"multiclass\", num_classes=10)\n",
    "\n",
    "    def forward(self, x):\n",
    "        \"\"\"\n",
    "        Forward pass through the CNN.\n",
    "\n",
    "        Args:\n",
    "            x (torch.Tensor): Input tensor with shape (batch_size, 3, 32, 32).\n",
    "\n",
    "        Returns:\n",
    "            torch.Tensor: Output tensor with shape (batch_size, 10).\n",
    "        \"\"\"\n",
    "        x = self.pool(\n",
    "            F.relu(self.conv1(x))\n",
    "        )  # ReLU activation function to introduce non-linearity\n",
    "        x = x.view(\n",
    "            -1, 16 * 16 * 16\n",
    "        )  # Flatten the output of the convolutional layer (-1 means that the batch size is inferred by PyTorch)\n",
    "        x = self.fc1(x)  # Fully connected output layer\n",
    "        return x\n",
    "\n",
    "    def configure_optimizers(self):\n",
    "        \"\"\"\n",
    "        Set up the optimizer for the CNN.\n",
    "\n",
    "        Returns:\n",
    "            torch.optim.Optimizer: The optimizer for this model.\n",
    "        \"\"\"\n",
    "        # Update model parameters using Adam, which combines the ideas of momentum and adaptive learning rates\n",
    "        if self._optimizer == \"SGD\":\n",
    "            return torch.optim.SGD(self.parameters(), lr=self._learning_rate)\n",
    "        elif self._optimizer == \"Adam\":\n",
    "            return torch.optim.Adam(\n",
    "                self.parameters(), lr=self._learning_rate\n",
    "            )  # self.parameters() returns current model params; lr is the initial learning rate\n",
    "        else:\n",
    "            raise ValueError(\"Optimizer not supported.\")\n",
    "\n",
    "    def training_step(self, batch, batch_idx):\n",
    "        \"\"\"\n",
    "        Perform a single training step.\n",
    "\n",
    "        Args:\n",
    "            batch (tuple): A tuple containing the input and target tensors.\n",
    "            batch_idx (int): The index of the current batch.\n",
    "\n",
    "        Returns:\n",
    "            torch.Tensor: The training loss for the current batch.\n",
    "        \"\"\"\n",
    "        inputs, targets = batch\n",
    "        outputs = self(inputs)  # equivalent to self.forward(inputs)\n",
    "        loss = F.cross_entropy(outputs, targets)\n",
    "        preds = torch.argmax(outputs, dim=1)\n",
    "\n",
    "        # Log training accuracy\n",
    "        self.train_accuracy(preds, targets)\n",
    "        self.log(\n",
    "            \"train_accuracy\",\n",
    "            self.train_accuracy,\n",
    "            on_step=False,\n",
    "            on_epoch=True,\n",
    "            prog_bar=True,\n",
    "            logger=True,\n",
    "        )\n",
    "\n",
    "        # Log training loss\n",
    "        self.log(\n",
    "            \"train_loss\", loss, on_step=True, on_epoch=True, prog_bar=True, logger=True\n",
    "        )\n",
    "        return loss\n",
    "\n",
    "    def validation_step(self, batch, batch_idx):\n",
    "        \"\"\"\n",
    "        Perform a single validation step.\n",
    "\n",
    "        Args:\n",
    "            batch (tuple): A tuple containing the input and target tensors.\n",
    "            batch_idx (int): The index of the current batch.\n",
    "\n",
    "        Returns:\n",
    "            None\n",
    "        \"\"\"\n",
    "        inputs, targets = batch\n",
    "        outputs = self(inputs)  # equivalent to self.forward(inputs)\n",
    "        loss = F.cross_entropy(outputs, targets)\n",
    "        preds = torch.argmax(outputs, dim=1)\n",
    "\n",
    "        # log validation accuracy\n",
    "        self.val_accuracy(preds, targets)\n",
    "        self.log(\n",
    "            \"val_accuracy\",\n",
    "            self.val_accuracy,\n",
    "            on_step=False,\n",
    "            on_epoch=True,\n",
    "            prog_bar=True,\n",
    "            logger=True,\n",
    "        )\n",
    "\n",
    "        # Log validation loss\n",
    "        self.log(\n",
    "            \"val_loss\", loss, on_step=True, on_epoch=True, prog_bar=True, logger=True\n",
    "        )\n",
    "        return loss\n"
   ]
  },
  {
   "cell_type": "code",
   "execution_count": 11,
   "metadata": {
    "ExecuteTime": {
     "end_time": "2023-04-12T22:34:22.121037Z",
     "start_time": "2023-04-12T22:34:21.626935Z"
    }
   },
   "outputs": [
    {
     "name": "stdout",
     "output_type": "stream",
     "text": [
      "Create sweep with ID: rscead7t\n",
      "Sweep URL: https://wandb.ai/yvokeller/deep-learning/sweeps/rscead7t\n"
     ]
    }
   ],
   "source": [
    "# Configure Weights & Biases sweeps\n",
    "sweep_config = {\n",
    "    \"name\": \"simple-cnn-singlebatch\",\n",
    "    \"method\": \"grid\",\n",
    "    \"metric\": {\n",
    "        \"name\": \"val_accuracy_epoch\",\n",
    "        \"goal\": \"maximize\",\n",
    "    },\n",
    "    \"parameters\": {\n",
    "        \"epochs\": {\"values\": [15]},\n",
    "        \"learning_rate\": {\"values\": [1e-3]},\n",
    "        \"optimizer\": {\"values\": [\"SGD\", \"Adam\"]},\n",
    "    },\n",
    "}\n",
    "\n",
    "# Setup Weight & Biases\n",
    "sweep_id = wandb.sweep(sweep_config, entity=\"yvokeller\", project=\"deep-learning\")\n",
    "\n",
    "# Create the PyTorch Lightning Trainer\n",
    "def train_sweep():\n",
    "    wandb.init()\n",
    "\n",
    "    model = SimpleCNN(wandb.config.learning_rate, wandb.config.optimizer)\n",
    "\n",
    "    trainer = li.Trainer(\n",
    "        max_epochs=wandb.config.epochs,\n",
    "        limit_train_batches=1,\n",
    "        limit_val_batches=1,\n",
    "        logger=WandbLogger(entity=\"yvokeller\", project=\"deep-learning\"),\n",
    "        log_every_n_steps=1,\n",
    "        enable_progress_bar=True,\n",
    "        callbacks=[TQDMProgressBar(refresh_rate=10)],  # update every 10 batches\n",
    "    )\n",
    "\n",
    "    train_dataloader, val_dataloader = get_dataloaders(batch_size=32)\n",
    "\n",
    "    trainer.fit(model, train_dataloader, val_dataloader)\n",
    "    wandb.finish()\n",
    "\n",
    "\n",
    "# Run the sweep\n",
    "# wandb.agent(sweep_id, function=train_sweep)"
   ]
  },
  {
   "cell_type": "markdown",
   "metadata": {},
   "source": [
    "Runs:\n",
    "- solar-sweep-1\n",
    "- restful-sweep-2\n",
    "\n",
    "https://wandb.ai/yvokeller/deep-learning/reports/Deep-Learning--Vmlldzo0MDM1MzE1"
   ]
  },
  {
   "cell_type": "markdown",
   "metadata": {},
   "source": [
    "# Schritt 4: Evaluation"
   ]
  },
  {
   "attachments": {},
   "cell_type": "markdown",
   "metadata": {},
   "source": [
    "### Interface Definition"
   ]
  },
  {
   "cell_type": "code",
   "execution_count": 10,
   "metadata": {},
   "outputs": [],
   "source": [
    "class IModel(li.LightningModule):\n",
    "    def __init__(self, hparams):\n",
    "        super().__init__()\n",
    "\n",
    "        # Save hyperparameters\n",
    "        self.hparams.update(hparams)\n",
    "\n",
    "        # Initialize metrics\n",
    "        self.train_accuracy = torchmetrics.Accuracy(task=\"multiclass\", num_classes=10)\n",
    "        self.val_accuracy = torchmetrics.Accuracy(task=\"multiclass\", num_classes=10)\n",
    "\n",
    "        # Configure optimizers\n",
    "        if self.hparams.optimizer == \"SGD\":\n",
    "            self.configure_optimizers = self.__configure_optimizers_sgd\n",
    "        elif self.hparams.optimizer == \"Adam\":\n",
    "            self.configure_optimizers = self.__configure_optimizers_adam\n",
    "        else:\n",
    "            raise ValueError(\"Optimizer not supported.\")\n",
    "\n",
    "    def init_weights(self, m):\n",
    "        if type(m) in {nn.Conv2d, nn.Linear}:\n",
    "            # Only initialize the weights of the convolutional and linear layers\n",
    "            # TODO: Look into the difference between the different weight initialization methods\n",
    "            if self.hparams.init_method == \"xavier_uniform\":\n",
    "                nn.init.xavier_uniform_(m.weight)\n",
    "            elif self.hparams.init_method == \"kaiming_uniform\":\n",
    "                nn.init.kaiming_uniform_(m.weight)\n",
    "            elif self.hparams.init_method == \"xavier_normal\":\n",
    "                nn.init.xavier_normal_(m.weight)\n",
    "            elif self.hparams.init_method == \"kaiming_normal\":\n",
    "                nn.init.kaiming_normal_(m.weight)\n",
    "            elif self.hparams.init_method is None:\n",
    "                pass\n",
    "            else:\n",
    "                raise ValueError(\"Invalid initialization method.\")\n",
    "            if m.bias is not None:\n",
    "                nn.init.zeros_(m.bias)\n",
    "\n",
    "    def training_step(self, batch, batch_idx):\n",
    "        return self.__step(batch, batch_idx, \"train\", self.train_accuracy)\n",
    "\n",
    "    def validation_step(self, batch, batch_idx):\n",
    "        return self.__step(batch, batch_idx, \"val\", self.val_accuracy)\n",
    "\n",
    "    def __configure_optimizers_adam(self):\n",
    "        return torch.optim.Adam(\n",
    "            self.parameters(),\n",
    "            lr=self.hparams.learning_rate,\n",
    "        )\n",
    "\n",
    "    def __configure_optimizers_sgd(self):\n",
    "        return torch.optim.SGD(\n",
    "            self.parameters(),\n",
    "            lr=self.hparams.learning_rate,\n",
    "        )\n",
    "\n",
    "    def __step(self, batch, batch_idx, stage, metric):\n",
    "        inputs, targets = batch\n",
    "        outputs = self(inputs)\n",
    "        loss = F.cross_entropy(outputs, targets)\n",
    "        preds = torch.argmax(outputs, dim=1)\n",
    "\n",
    "        # Log training accuracy\n",
    "        metric(preds, targets)\n",
    "        self.log(\n",
    "            f\"{stage}_accuracy\",\n",
    "            metric,\n",
    "            on_step=False,\n",
    "            on_epoch=True,\n",
    "            prog_bar=True,\n",
    "            logger=True,\n",
    "        )\n",
    "\n",
    "        # Log training loss\n",
    "        self.log(\n",
    "            f\"{stage}_loss\",\n",
    "            loss,\n",
    "            on_step=False,\n",
    "            on_epoch=True,\n",
    "            prog_bar=True,\n",
    "            logger=True,\n",
    "        )\n",
    "        return loss\n"
   ]
  },
  {
   "cell_type": "code",
   "execution_count": 11,
   "metadata": {},
   "outputs": [],
   "source": [
    "class CNNModel(IModel):\n",
    "    def __init__(\n",
    "        self,\n",
    "        hparams\n",
    "    ):\n",
    "        super().__init__(hparams)\n",
    "\n",
    "        # Initialize the network layers\n",
    "        self.conv1 = nn.Conv2d(\n",
    "            3, 32, self.hparams.kernel_size, stride=self.hparams.stride, padding=self.hparams.padding, dilation=self.hparams.dilation\n",
    "        )\n",
    "        # output_size = (input_size - kernel_size + 2 * padding / stride + 1)\n",
    "        # (32 - 5 + 2 * 0 / 1 + 1) * (32 - 5 + 2 * 0 / 1 + 1) * 32 [28]\n",
    "        self.conv2 = nn.Conv2d(\n",
    "            32, 64, self.hparams.kernel_size, stride=self.hparams.stride, padding=self.hparams.padding, dilation=self.hparams.dilation\n",
    "        )\n",
    "        # (28 - 5 + 2 * 0 / 1 + 1) * (28 - 5 + 2 * 0 / 1 + 1) * 64 [24]\n",
    "        self.pool1 = nn.MaxPool2d(kernel_size=2, stride=2)\n",
    "        # floor((input_size - pool_size) / stride + 1)\n",
    "        # floor((24 - 2) / 2 + 1) = 12\n",
    "        self.conv3 = nn.Conv2d(\n",
    "            64, 128, self.hparams.kernel_size, stride=self.hparams.stride, padding=self.hparams.padding, dilation=self.hparams.dilation\n",
    "        )\n",
    "        # (12 - 5 + 2 * 0 / 1 + 1) * (12 - 5 + 2 * 0 / 1 + 1) * 128 [8]\n",
    "        self.conv4 = nn.Conv2d(\n",
    "            128, 256, self.hparams.kernel_size, stride=self.hparams.stride, padding=self.hparams.padding, dilation=self.hparams.dilation\n",
    "        )\n",
    "        # (8 - 5 + 2 * 0 / 1 + 1) * (8 - 5 + 2 * 0 / 1 + 1) * 256 [4]\n",
    "        self.pool2 = nn.MaxPool2d(kernel_size=2, stride=2)\n",
    "        # floor((4 - 2) / 2 + 1) = 2\n",
    "\n",
    "        # Calculate the size of the fully connected layers based on the input hyperparameters\n",
    "        size_after_pooling = 2 # 32 // (2**2)  # Divide by 2 for each max-pooling layer\n",
    "        fc_input_size = 256 * size_after_pooling * size_after_pooling\n",
    "\n",
    "        self.fc1 = nn.Linear(fc_input_size, 512)\n",
    "        self.fc2 = nn.Linear(512, 10)\n",
    "\n",
    "    def forward(self, x):\n",
    "        x = F.relu(self.conv1(x))\n",
    "        x = F.relu(self.conv2(x))\n",
    "        x = self.pool1(x)\n",
    "        x = F.relu(self.conv3(x))\n",
    "        x = F.relu(self.conv4(x))\n",
    "        x = self.pool2(x)\n",
    "        x = x.view(x.size(0), -1)\n",
    "        x = F.relu(self.fc1(x))\n",
    "        x = self.fc2(x)\n",
    "        return x\n",
    "    "
   ]
  },
  {
   "cell_type": "code",
   "execution_count": 12,
   "metadata": {},
   "outputs": [
    {
     "name": "stdout",
     "output_type": "stream",
     "text": [
      "Create sweep with ID: rpsj7s3n\n",
      "Sweep URL: https://wandb.ai/yvokeller/deep-learning/sweeps/rpsj7s3n\n"
     ]
    },
    {
     "name": "stderr",
     "output_type": "stream",
     "text": [
      "\u001b[34m\u001b[1mwandb\u001b[0m: Agent Starting Run: 8tlcwpl2 with config:\n",
      "\u001b[34m\u001b[1mwandb\u001b[0m: \tbatch_size: 64\n",
      "\u001b[34m\u001b[1mwandb\u001b[0m: \tdilation: 1\n",
      "\u001b[34m\u001b[1mwandb\u001b[0m: \tepochs: 30\n",
      "\u001b[34m\u001b[1mwandb\u001b[0m: \tinit_method: None\n",
      "\u001b[34m\u001b[1mwandb\u001b[0m: \tkernel_size: 5\n",
      "\u001b[34m\u001b[1mwandb\u001b[0m: \tlearning_rate: 0.001\n",
      "\u001b[34m\u001b[1mwandb\u001b[0m: \toptimizer: SGD\n",
      "\u001b[34m\u001b[1mwandb\u001b[0m: \tpadding: 0\n",
      "\u001b[34m\u001b[1mwandb\u001b[0m: \tstride: 1\n",
      "\u001b[34m\u001b[1mwandb\u001b[0m: Currently logged in as: \u001b[33myvokeller\u001b[0m. Use \u001b[1m`wandb login --relogin`\u001b[0m to force relogin\n"
     ]
    },
    {
     "data": {
      "text/html": [
       "Tracking run with wandb version 0.14.2"
      ],
      "text/plain": [
       "<IPython.core.display.HTML object>"
      ]
     },
     "metadata": {},
     "output_type": "display_data"
    },
    {
     "data": {
      "text/html": [
       "Run data is saved locally in <code>/Users/yvokeller/Code/studies/del/deep-learning/wandb/run-20230413_134525-8tlcwpl2</code>"
      ],
      "text/plain": [
       "<IPython.core.display.HTML object>"
      ]
     },
     "metadata": {},
     "output_type": "display_data"
    },
    {
     "data": {
      "text/html": [
       "Syncing run <strong><a href='https://wandb.ai/yvokeller/deep-learning/runs/8tlcwpl2' target=\"_blank\">jumping-sweep-1</a></strong> to <a href='https://wandb.ai/yvokeller/deep-learning' target=\"_blank\">Weights & Biases</a> (<a href='https://wandb.me/run' target=\"_blank\">docs</a>)<br/>Sweep page: <a href='https://wandb.ai/yvokeller/deep-learning/sweeps/rpsj7s3n' target=\"_blank\">https://wandb.ai/yvokeller/deep-learning/sweeps/rpsj7s3n</a>"
      ],
      "text/plain": [
       "<IPython.core.display.HTML object>"
      ]
     },
     "metadata": {},
     "output_type": "display_data"
    },
    {
     "data": {
      "text/html": [
       " View project at <a href='https://wandb.ai/yvokeller/deep-learning' target=\"_blank\">https://wandb.ai/yvokeller/deep-learning</a>"
      ],
      "text/plain": [
       "<IPython.core.display.HTML object>"
      ]
     },
     "metadata": {},
     "output_type": "display_data"
    },
    {
     "data": {
      "text/html": [
       " View sweep at <a href='https://wandb.ai/yvokeller/deep-learning/sweeps/rpsj7s3n' target=\"_blank\">https://wandb.ai/yvokeller/deep-learning/sweeps/rpsj7s3n</a>"
      ],
      "text/plain": [
       "<IPython.core.display.HTML object>"
      ]
     },
     "metadata": {},
     "output_type": "display_data"
    },
    {
     "data": {
      "text/html": [
       " View run at <a href='https://wandb.ai/yvokeller/deep-learning/runs/8tlcwpl2' target=\"_blank\">https://wandb.ai/yvokeller/deep-learning/runs/8tlcwpl2</a>"
      ],
      "text/plain": [
       "<IPython.core.display.HTML object>"
      ]
     },
     "metadata": {},
     "output_type": "display_data"
    },
    {
     "name": "stderr",
     "output_type": "stream",
     "text": [
      "/opt/homebrew/Caskroom/miniforge/base/envs/deep-learning/lib/python3.10/site-packages/lightning/pytorch/loggers/wandb.py:395: UserWarning: There is a wandb run already in progress and newly created instances of `WandbLogger` will reuse this run. If this is not desired, call `wandb.finish()` before instantiating `WandbLogger`.\n",
      "  rank_zero_warn(\n",
      "GPU available: True (mps), used: True\n",
      "TPU available: False, using: 0 TPU cores\n",
      "IPU available: False, using: 0 IPUs\n",
      "HPU available: False, using: 0 HPUs\n",
      "\n",
      "  | Name           | Type               | Params\n",
      "------------------------------------------------------\n",
      "0 | train_accuracy | MulticlassAccuracy | 0     \n",
      "1 | val_accuracy   | MulticlassAccuracy | 0     \n",
      "2 | conv1          | Conv2d             | 2.4 K \n",
      "3 | conv2          | Conv2d             | 51.3 K\n",
      "4 | pool1          | MaxPool2d          | 0     \n",
      "5 | conv3          | Conv2d             | 204 K \n",
      "6 | conv4          | Conv2d             | 819 K \n",
      "7 | pool2          | MaxPool2d          | 0     \n",
      "8 | fc1            | Linear             | 524 K \n",
      "9 | fc2            | Linear             | 5.1 K \n",
      "------------------------------------------------------\n",
      "1.6 M     Trainable params\n",
      "0         Non-trainable params\n",
      "1.6 M     Total params\n",
      "6.432     Total estimated model params size (MB)\n"
     ]
    },
    {
     "data": {
      "application/vnd.jupyter.widget-view+json": {
       "model_id": "335303cfbb00408b8381e0244d00a8d5",
       "version_major": 2,
       "version_minor": 0
      },
      "text/plain": [
       "Sanity Checking: 0it [00:00, ?it/s]"
      ]
     },
     "metadata": {},
     "output_type": "display_data"
    },
    {
     "name": "stderr",
     "output_type": "stream",
     "text": [
      "/opt/homebrew/Caskroom/miniforge/base/envs/deep-learning/lib/python3.10/site-packages/torch/functional.py:791: UserWarning: The operator 'aten::_unique2' is not currently supported on the MPS backend and will fall back to run on the CPU. This may have performance implications. (Triggered internally at /Users/runner/work/pytorch/pytorch/pytorch/aten/src/ATen/mps/MPSFallback.mm:11.)\n",
      "  output, inverse_indices, counts = torch._unique2(\n"
     ]
    },
    {
     "data": {
      "application/vnd.jupyter.widget-view+json": {
       "model_id": "5c7ec64d1c3d43499efdafd3dcf271e0",
       "version_major": 2,
       "version_minor": 0
      },
      "text/plain": [
       "Training: 0it [00:00, ?it/s]"
      ]
     },
     "metadata": {},
     "output_type": "display_data"
    },
    {
     "data": {
      "application/vnd.jupyter.widget-view+json": {
       "model_id": "65268da007294a25949e3d853dd330a8",
       "version_major": 2,
       "version_minor": 0
      },
      "text/plain": [
       "Validation: 0it [00:00, ?it/s]"
      ]
     },
     "metadata": {},
     "output_type": "display_data"
    },
    {
     "data": {
      "application/vnd.jupyter.widget-view+json": {
       "model_id": "c13a3e5d08454042b4c6886c3969d93f",
       "version_major": 2,
       "version_minor": 0
      },
      "text/plain": [
       "Validation: 0it [00:00, ?it/s]"
      ]
     },
     "metadata": {},
     "output_type": "display_data"
    },
    {
     "data": {
      "application/vnd.jupyter.widget-view+json": {
       "model_id": "9c091ed3ad7a443a9dcc0df846f66e9b",
       "version_major": 2,
       "version_minor": 0
      },
      "text/plain": [
       "Validation: 0it [00:00, ?it/s]"
      ]
     },
     "metadata": {},
     "output_type": "display_data"
    },
    {
     "data": {
      "application/vnd.jupyter.widget-view+json": {
       "model_id": "955ecd2eb2ef408ab73c49ecbde5f63f",
       "version_major": 2,
       "version_minor": 0
      },
      "text/plain": [
       "Validation: 0it [00:00, ?it/s]"
      ]
     },
     "metadata": {},
     "output_type": "display_data"
    },
    {
     "data": {
      "application/vnd.jupyter.widget-view+json": {
       "model_id": "a39f9e233648417c979d51027b02c43c",
       "version_major": 2,
       "version_minor": 0
      },
      "text/plain": [
       "Validation: 0it [00:00, ?it/s]"
      ]
     },
     "metadata": {},
     "output_type": "display_data"
    },
    {
     "data": {
      "application/vnd.jupyter.widget-view+json": {
       "model_id": "90dcb8ad37574312a93a3831d89aba8b",
       "version_major": 2,
       "version_minor": 0
      },
      "text/plain": [
       "Validation: 0it [00:00, ?it/s]"
      ]
     },
     "metadata": {},
     "output_type": "display_data"
    },
    {
     "data": {
      "application/vnd.jupyter.widget-view+json": {
       "model_id": "171674009906409a8bddbff5fac98553",
       "version_major": 2,
       "version_minor": 0
      },
      "text/plain": [
       "Validation: 0it [00:00, ?it/s]"
      ]
     },
     "metadata": {},
     "output_type": "display_data"
    },
    {
     "data": {
      "application/vnd.jupyter.widget-view+json": {
       "model_id": "b692964a6d414f40aea84eceaa5c6d09",
       "version_major": 2,
       "version_minor": 0
      },
      "text/plain": [
       "Validation: 0it [00:00, ?it/s]"
      ]
     },
     "metadata": {},
     "output_type": "display_data"
    },
    {
     "data": {
      "application/vnd.jupyter.widget-view+json": {
       "model_id": "436eeb8fae5c4fe4ae462d664a5afa1a",
       "version_major": 2,
       "version_minor": 0
      },
      "text/plain": [
       "Validation: 0it [00:00, ?it/s]"
      ]
     },
     "metadata": {},
     "output_type": "display_data"
    },
    {
     "data": {
      "application/vnd.jupyter.widget-view+json": {
       "model_id": "7fa2ff61ead1429b8bd22eff1401f88e",
       "version_major": 2,
       "version_minor": 0
      },
      "text/plain": [
       "Validation: 0it [00:00, ?it/s]"
      ]
     },
     "metadata": {},
     "output_type": "display_data"
    },
    {
     "data": {
      "application/vnd.jupyter.widget-view+json": {
       "model_id": "680d57d3dcd442e8be8fba7f49f93106",
       "version_major": 2,
       "version_minor": 0
      },
      "text/plain": [
       "Validation: 0it [00:00, ?it/s]"
      ]
     },
     "metadata": {},
     "output_type": "display_data"
    },
    {
     "data": {
      "application/vnd.jupyter.widget-view+json": {
       "model_id": "e723c691d53340409a79ed95ab30066a",
       "version_major": 2,
       "version_minor": 0
      },
      "text/plain": [
       "Validation: 0it [00:00, ?it/s]"
      ]
     },
     "metadata": {},
     "output_type": "display_data"
    },
    {
     "data": {
      "application/vnd.jupyter.widget-view+json": {
       "model_id": "7640996d54704f68a02c766899769287",
       "version_major": 2,
       "version_minor": 0
      },
      "text/plain": [
       "Validation: 0it [00:00, ?it/s]"
      ]
     },
     "metadata": {},
     "output_type": "display_data"
    }
   ],
   "source": [
    "# Configure Weights & Biases sweeps\n",
    "sweep_config = {\n",
    "    \"name\": \"medium-cnn-sweep\",\n",
    "    \"method\": \"grid\",\n",
    "    \"metric\": {\n",
    "        \"name\": \"val_accuracy\",\n",
    "        \"goal\": \"maximize\",\n",
    "    },\n",
    "    \"parameters\": {\n",
    "        \"epochs\": {\"values\": [30]},\n",
    "        \"learning_rate\": {\"values\": [1e-3]},\n",
    "        \"batch_size\": {\"values\": [64]},\n",
    "        \"optimizer\": {\"values\": [\"SGD\"]},\n",
    "        \"init_method\": {\"values\": [None]},\n",
    "        \"kernel_size\": {\"values\": [5]},\n",
    "        \"stride\": {\"values\": [1]}, # 1 is default\n",
    "        \"padding\": {\"values\": [0]}, # 0 is default\n",
    "        \"dilation\": {\"values\": [1]}, # 1 is default\n",
    "    },\n",
    "}\n",
    "\n",
    "# Setup Weight & Biases\n",
    "sweep_id = wandb.sweep(\n",
    "    sweep_config, entity='yvokeller', project='deep-learning'\n",
    ")\n",
    "\n",
    "def is_valid_hyperparameters(kernel_size, stride, padding, dilation):\n",
    "    input_size = 32  # Assuming the input image size is 32x32\n",
    "    num_pooling_layers = 2\n",
    "\n",
    "    for _ in range(4):  # There are four convolutional layers in the network\n",
    "        output_size = (input_size + 2 * padding - dilation * (kernel_size - 1) - 1) // stride + 1\n",
    "        if output_size < kernel_size:\n",
    "            return False\n",
    "        input_size = output_size\n",
    "        if num_pooling_layers > 0:\n",
    "            input_size = input_size // 2  # Divide by 2 for each max-pooling layer\n",
    "            num_pooling_layers -= 1\n",
    "\n",
    "    return True\n",
    "\n",
    "# Create the PyTorch Lightning Trainer\n",
    "def train_sweep():\n",
    "    with wandb.init() as run:\n",
    "        # # Check if the combination of hyperparameters is valid\n",
    "        # if not is_valid_hyperparameters(run.config.kernel_size, run.config.stride, run.config.padding, run.config.dilation):\n",
    "        #     wandb.termlog(\"Invalid combination of hyperparameters. Skipping this run.\")\n",
    "        #     return\n",
    "        \n",
    "        # Overwrite the random run names chosen by wandb\n",
    "        name_str = (\n",
    "            f\"lr_{run.config.learning_rate}_\"\n",
    "            f\"opt_{run.config.optimizer}_\"\n",
    "            f\"bs_{run.config.batch_size}_\"\n",
    "            f\"ks_{run.config.kernel_size}_\"\n",
    "            f\"str_{run.config.stride}_\"\n",
    "            f\"pad_{run.config.padding}_\"\n",
    "            f\"ini_{run.config.init_method}\"\n",
    "        )\n",
    "        run.name = name_str\n",
    "\n",
    "        model = CNNModel(run.config)\n",
    "\n",
    "        # Initialize weights\n",
    "        model.apply(\n",
    "            model.init_weights\n",
    "        ) # traverse through the layers and initialize the weights\n",
    "\n",
    "        trainer = li.Trainer(\n",
    "            max_epochs=wandb.config.epochs,\n",
    "            logger=WandbLogger(entity='yvokeller', project='deep-learning'),\n",
    "            log_every_n_steps=1,\n",
    "            enable_progress_bar=True,\n",
    "            callbacks=[TQDMProgressBar(refresh_rate=10)] # update every 10 batches\n",
    "        )\n",
    "\n",
    "        train_dataloader, val_dataloader = get_dataloaders(batch_size=wandb.config.batch_size)\n",
    "\n",
    "        trainer.fit(model, train_dataloader, val_dataloader)\n",
    "\n",
    "# Run the sweep\n",
    "wandb.agent(sweep_id, function=train_sweep)"
   ]
  },
  {
   "cell_type": "markdown",
   "metadata": {},
   "source": [
    "## Defining Models of different complexity"
   ]
  },
  {
   "cell_type": "code",
   "execution_count": 14,
   "metadata": {
    "ExecuteTime": {
     "end_time": "2023-04-12T22:34:22.121247Z",
     "start_time": "2023-04-12T22:34:22.002027Z"
    }
   },
   "outputs": [],
   "source": [
    "class MediumCNN(li.LightningModule):\n",
    "    def __init__(\n",
    "        self,\n",
    "        learning_rate,\n",
    "        optimizer,\n",
    "        init_method,\n",
    "        kernel_size,\n",
    "        stride,\n",
    "        padding,\n",
    "        dilation,\n",
    "    ):\n",
    "        super().__init__()\n",
    "\n",
    "        # Save hyperparameters\n",
    "        self.save_hyperparameters()  # saves all the arguments passed to the __init__ method\n",
    "\n",
    "        # Initialize the network layers\n",
    "        self.conv1 = nn.Conv2d(\n",
    "            3, 32, kernel_size, stride=stride, padding=padding, dilation=dilation\n",
    "        )\n",
    "        self.conv2 = nn.Conv2d(\n",
    "            32, 64, kernel_size, stride=stride, padding=padding, dilation=dilation\n",
    "        )\n",
    "        self.pool1 = nn.MaxPool2d(kernel_size=2, stride=2)\n",
    "        self.conv3 = nn.Conv2d(\n",
    "            64, 128, kernel_size, stride=stride, padding=padding, dilation=dilation\n",
    "        )\n",
    "        self.conv4 = nn.Conv2d(\n",
    "            128, 256, kernel_size, stride=stride, padding=padding, dilation=dilation\n",
    "        )\n",
    "        self.pool2 = nn.MaxPool2d(kernel_size=2, stride=2)\n",
    "\n",
    "        # Calculate the size of the fully connected layers based on the input hyperparameters\n",
    "        size_after_pooling = 32 // (2**2)  # Divide by 2 for each max-pooling layer\n",
    "        fc_input_size = 256 * size_after_pooling * size_after_pooling\n",
    "\n",
    "        self.fc1 = nn.Linear(fc_input_size, 512)\n",
    "        self.fc2 = nn.Linear(512, 10)\n",
    "\n",
    "        # Initialize metrics\n",
    "        self.train_accuracy = torchmetrics.Accuracy(task=\"multiclass\", num_classes=10)\n",
    "        self.val_accuracy = torchmetrics.Accuracy(task=\"multiclass\", num_classes=10)\n",
    "\n",
    "        # Initialize weights\n",
    "        self.apply(\n",
    "            self._init_weights\n",
    "        ) # traverse through the layers and initialize the weights\n",
    "\n",
    "    def _init_weights(self, m):\n",
    "        if type(m) in {nn.Conv2d, nn.Linear}:\n",
    "            # Only initialize the weights of the convolutional and linear layers\n",
    "            # TODO: Look into the difference between the different weight initialization methods\n",
    "            if self.hparams.init_method == \"xavier_uniform\":\n",
    "                nn.init.xavier_uniform_(m.weight)\n",
    "            elif self.hparams.init_method == \"kaiming_uniform\":\n",
    "                nn.init.kaiming_uniform_(m.weight)\n",
    "            elif self.hparams.init_method == \"xavier_normal\":\n",
    "                nn.init.xavier_normal_(m.weight)\n",
    "            elif self.hparams.init_method == \"kaiming_normal\":\n",
    "                nn.init.kaiming_normal_(m.weight, nonlinearity=\"relu\")\n",
    "            elif self.hparams.init_method is None:\n",
    "                pass\n",
    "            else:\n",
    "                raise ValueError(\"Invalid initialization method.\")\n",
    "            if m.bias is not None:\n",
    "                nn.init.zeros_(m.bias)\n",
    "\n",
    "    def forward(self, x):\n",
    "        x = F.relu(self.conv1(x))\n",
    "        x = F.relu(self.conv2(x))\n",
    "        x = self.pool1(x)\n",
    "        x = F.relu(self.conv3(x))\n",
    "        x = F.relu(self.conv4(x))\n",
    "        x = self.pool2(x)\n",
    "        x = x.view(x.size(0), -1)\n",
    "        x = F.relu(self.fc1(x))\n",
    "        x = self.fc2(x)\n",
    "        return x\n",
    "\n",
    "    def configure_optimizers(self):\n",
    "        if self.hparams.optimizer == \"SGD\":\n",
    "            return torch.optim.SGD(self.parameters(), lr=self.hparams.learning_rate)\n",
    "        elif self.hparams.optimizer == \"Adam\":\n",
    "            return torch.optim.Adam(self.parameters(), lr=self.hparams.learning_rate)\n",
    "        else:\n",
    "            raise ValueError(\"Optimizer not supported.\")\n",
    "\n",
    "    def training_step(self, batch, batch_idx):\n",
    "        inputs, targets = batch\n",
    "        outputs = self(inputs)\n",
    "        loss = F.cross_entropy(outputs, targets)\n",
    "        preds = torch.argmax(outputs, dim=1)\n",
    "\n",
    "        # Log training accuracy\n",
    "        self.train_accuracy(preds, targets)\n",
    "        self.log(\n",
    "            \"train_accuracy\",\n",
    "            self.train_accuracy,\n",
    "            on_step=False,\n",
    "            on_epoch=True,\n",
    "            prog_bar=True,\n",
    "            logger=True,\n",
    "        )\n",
    "\n",
    "        # Log training loss\n",
    "        self.log(\n",
    "            \"train_loss\", loss, on_step=True, on_epoch=True, prog_bar=True, logger=True\n",
    "        )\n",
    "        return loss\n",
    "\n",
    "    def validation_step(self, batch, batch_idx):\n",
    "        inputs, targets = batch\n",
    "        outputs = self(inputs)\n",
    "        loss = F.cross_entropy(outputs, targets)\n",
    "        preds = torch.argmax(outputs, dim=1)\n",
    "\n",
    "        # Log validation accuracy\n",
    "        self.val_accuracy(preds, targets)\n",
    "        self.log(\n",
    "            \"val_accuracy\",\n",
    "            self.val_accuracy,\n",
    "            on_step=False,\n",
    "            on_epoch=True,\n",
    "            prog_bar=True,\n",
    "            logger=True,\n",
    "        )\n",
    "\n",
    "        # Log validation loss\n",
    "        self.log(\n",
    "            \"val_loss\", loss, on_step=True, on_epoch=True, prog_bar=True, logger=True\n",
    "        )\n",
    "        return loss\n"
   ]
  },
  {
   "cell_type": "code",
   "execution_count": 15,
   "metadata": {
    "pycharm": {
     "is_executing": true
    }
   },
   "outputs": [
    {
     "name": "stdout",
     "output_type": "stream",
     "text": [
      "Create sweep with ID: 3yfan4jc\n",
      "Sweep URL: https://wandb.ai/yvokeller/deep-learning/sweeps/3yfan4jc\n"
     ]
    },
    {
     "name": "stderr",
     "output_type": "stream",
     "text": [
      "\u001b[34m\u001b[1mwandb\u001b[0m: Agent Starting Run: reo8g3lr with config:\n",
      "\u001b[34m\u001b[1mwandb\u001b[0m: \tbatch_size: 32\n",
      "\u001b[34m\u001b[1mwandb\u001b[0m: \tdilation: 1\n",
      "\u001b[34m\u001b[1mwandb\u001b[0m: \tepochs: 15\n",
      "\u001b[34m\u001b[1mwandb\u001b[0m: \tinit_method: None\n",
      "\u001b[34m\u001b[1mwandb\u001b[0m: \tkernel_size: 3\n",
      "\u001b[34m\u001b[1mwandb\u001b[0m: \tlearning_rate: 0.01\n",
      "\u001b[34m\u001b[1mwandb\u001b[0m: \toptimizer: SGD\n",
      "\u001b[34m\u001b[1mwandb\u001b[0m: \tpadding: 0\n",
      "\u001b[34m\u001b[1mwandb\u001b[0m: \tstride: 1\n",
      "\u001b[34m\u001b[1mwandb\u001b[0m: Currently logged in as: \u001b[33myvokeller\u001b[0m. Use \u001b[1m`wandb login --relogin`\u001b[0m to force relogin\n"
     ]
    },
    {
     "data": {
      "text/html": [
       "Tracking run with wandb version 0.14.2"
      ],
      "text/plain": [
       "<IPython.core.display.HTML object>"
      ]
     },
     "metadata": {},
     "output_type": "display_data"
    },
    {
     "data": {
      "text/html": [
       "Run data is saved locally in <code>/Users/yvokeller/Code/studies/del/deep-learning/wandb/run-20230413_092335-reo8g3lr</code>"
      ],
      "text/plain": [
       "<IPython.core.display.HTML object>"
      ]
     },
     "metadata": {},
     "output_type": "display_data"
    },
    {
     "data": {
      "text/html": [
       "Syncing run <strong><a href='https://wandb.ai/yvokeller/deep-learning/runs/reo8g3lr' target=\"_blank\">decent-sweep-1</a></strong> to <a href='https://wandb.ai/yvokeller/deep-learning' target=\"_blank\">Weights & Biases</a> (<a href='https://wandb.me/run' target=\"_blank\">docs</a>)<br/>Sweep page: <a href='https://wandb.ai/yvokeller/deep-learning/sweeps/3yfan4jc' target=\"_blank\">https://wandb.ai/yvokeller/deep-learning/sweeps/3yfan4jc</a>"
      ],
      "text/plain": [
       "<IPython.core.display.HTML object>"
      ]
     },
     "metadata": {},
     "output_type": "display_data"
    },
    {
     "data": {
      "text/html": [
       " View project at <a href='https://wandb.ai/yvokeller/deep-learning' target=\"_blank\">https://wandb.ai/yvokeller/deep-learning</a>"
      ],
      "text/plain": [
       "<IPython.core.display.HTML object>"
      ]
     },
     "metadata": {},
     "output_type": "display_data"
    },
    {
     "data": {
      "text/html": [
       " View sweep at <a href='https://wandb.ai/yvokeller/deep-learning/sweeps/3yfan4jc' target=\"_blank\">https://wandb.ai/yvokeller/deep-learning/sweeps/3yfan4jc</a>"
      ],
      "text/plain": [
       "<IPython.core.display.HTML object>"
      ]
     },
     "metadata": {},
     "output_type": "display_data"
    },
    {
     "data": {
      "text/html": [
       " View run at <a href='https://wandb.ai/yvokeller/deep-learning/runs/reo8g3lr' target=\"_blank\">https://wandb.ai/yvokeller/deep-learning/runs/reo8g3lr</a>"
      ],
      "text/plain": [
       "<IPython.core.display.HTML object>"
      ]
     },
     "metadata": {},
     "output_type": "display_data"
    },
    {
     "name": "stderr",
     "output_type": "stream",
     "text": [
      "\u001b[34m\u001b[1mwandb\u001b[0m: Invalid combination of hyperparameters. Skipping this run.\n"
     ]
    },
    {
     "data": {
      "text/html": [
       "Waiting for W&B process to finish... <strong style=\"color:green\">(success).</strong>"
      ],
      "text/plain": [
       "<IPython.core.display.HTML object>"
      ]
     },
     "metadata": {},
     "output_type": "display_data"
    },
    {
     "data": {
      "text/html": [
       " View run <strong style=\"color:#cdcd00\">decent-sweep-1</strong> at: <a href='https://wandb.ai/yvokeller/deep-learning/runs/reo8g3lr' target=\"_blank\">https://wandb.ai/yvokeller/deep-learning/runs/reo8g3lr</a><br/>Synced 6 W&B file(s), 0 media file(s), 0 artifact file(s) and 0 other file(s)"
      ],
      "text/plain": [
       "<IPython.core.display.HTML object>"
      ]
     },
     "metadata": {},
     "output_type": "display_data"
    },
    {
     "data": {
      "text/html": [
       "Find logs at: <code>./wandb/run-20230413_092335-reo8g3lr/logs</code>"
      ],
      "text/plain": [
       "<IPython.core.display.HTML object>"
      ]
     },
     "metadata": {},
     "output_type": "display_data"
    },
    {
     "name": "stderr",
     "output_type": "stream",
     "text": [
      "\u001b[34m\u001b[1mwandb\u001b[0m: Agent Starting Run: 4biw3xmc with config:\n",
      "\u001b[34m\u001b[1mwandb\u001b[0m: \tbatch_size: 32\n",
      "\u001b[34m\u001b[1mwandb\u001b[0m: \tdilation: 1\n",
      "\u001b[34m\u001b[1mwandb\u001b[0m: \tepochs: 15\n",
      "\u001b[34m\u001b[1mwandb\u001b[0m: \tinit_method: None\n",
      "\u001b[34m\u001b[1mwandb\u001b[0m: \tkernel_size: 3\n",
      "\u001b[34m\u001b[1mwandb\u001b[0m: \tlearning_rate: 0.01\n",
      "\u001b[34m\u001b[1mwandb\u001b[0m: \toptimizer: SGD\n",
      "\u001b[34m\u001b[1mwandb\u001b[0m: \tpadding: 0\n",
      "\u001b[34m\u001b[1mwandb\u001b[0m: \tstride: 2\n"
     ]
    },
    {
     "data": {
      "text/html": [
       "Tracking run with wandb version 0.14.2"
      ],
      "text/plain": [
       "<IPython.core.display.HTML object>"
      ]
     },
     "metadata": {},
     "output_type": "display_data"
    },
    {
     "data": {
      "text/html": [
       "Run data is saved locally in <code>/Users/yvokeller/Code/studies/del/deep-learning/wandb/run-20230413_092346-4biw3xmc</code>"
      ],
      "text/plain": [
       "<IPython.core.display.HTML object>"
      ]
     },
     "metadata": {},
     "output_type": "display_data"
    },
    {
     "data": {
      "text/html": [
       "Syncing run <strong><a href='https://wandb.ai/yvokeller/deep-learning/runs/4biw3xmc' target=\"_blank\">pretty-sweep-2</a></strong> to <a href='https://wandb.ai/yvokeller/deep-learning' target=\"_blank\">Weights & Biases</a> (<a href='https://wandb.me/run' target=\"_blank\">docs</a>)<br/>Sweep page: <a href='https://wandb.ai/yvokeller/deep-learning/sweeps/3yfan4jc' target=\"_blank\">https://wandb.ai/yvokeller/deep-learning/sweeps/3yfan4jc</a>"
      ],
      "text/plain": [
       "<IPython.core.display.HTML object>"
      ]
     },
     "metadata": {},
     "output_type": "display_data"
    },
    {
     "data": {
      "text/html": [
       " View project at <a href='https://wandb.ai/yvokeller/deep-learning' target=\"_blank\">https://wandb.ai/yvokeller/deep-learning</a>"
      ],
      "text/plain": [
       "<IPython.core.display.HTML object>"
      ]
     },
     "metadata": {},
     "output_type": "display_data"
    },
    {
     "data": {
      "text/html": [
       " View sweep at <a href='https://wandb.ai/yvokeller/deep-learning/sweeps/3yfan4jc' target=\"_blank\">https://wandb.ai/yvokeller/deep-learning/sweeps/3yfan4jc</a>"
      ],
      "text/plain": [
       "<IPython.core.display.HTML object>"
      ]
     },
     "metadata": {},
     "output_type": "display_data"
    },
    {
     "data": {
      "text/html": [
       " View run at <a href='https://wandb.ai/yvokeller/deep-learning/runs/4biw3xmc' target=\"_blank\">https://wandb.ai/yvokeller/deep-learning/runs/4biw3xmc</a>"
      ],
      "text/plain": [
       "<IPython.core.display.HTML object>"
      ]
     },
     "metadata": {},
     "output_type": "display_data"
    },
    {
     "name": "stderr",
     "output_type": "stream",
     "text": [
      "\u001b[34m\u001b[1mwandb\u001b[0m: Invalid combination of hyperparameters. Skipping this run.\n"
     ]
    },
    {
     "data": {
      "text/html": [
       "Waiting for W&B process to finish... <strong style=\"color:green\">(success).</strong>"
      ],
      "text/plain": [
       "<IPython.core.display.HTML object>"
      ]
     },
     "metadata": {},
     "output_type": "display_data"
    },
    {
     "data": {
      "text/html": [
       " View run <strong style=\"color:#cdcd00\">pretty-sweep-2</strong> at: <a href='https://wandb.ai/yvokeller/deep-learning/runs/4biw3xmc' target=\"_blank\">https://wandb.ai/yvokeller/deep-learning/runs/4biw3xmc</a><br/>Synced 6 W&B file(s), 0 media file(s), 0 artifact file(s) and 0 other file(s)"
      ],
      "text/plain": [
       "<IPython.core.display.HTML object>"
      ]
     },
     "metadata": {},
     "output_type": "display_data"
    },
    {
     "data": {
      "text/html": [
       "Find logs at: <code>./wandb/run-20230413_092346-4biw3xmc/logs</code>"
      ],
      "text/plain": [
       "<IPython.core.display.HTML object>"
      ]
     },
     "metadata": {},
     "output_type": "display_data"
    },
    {
     "name": "stderr",
     "output_type": "stream",
     "text": [
      "\u001b[34m\u001b[1mwandb\u001b[0m: Agent Starting Run: yintey8m with config:\n",
      "\u001b[34m\u001b[1mwandb\u001b[0m: \tbatch_size: 32\n",
      "\u001b[34m\u001b[1mwandb\u001b[0m: \tdilation: 1\n",
      "\u001b[34m\u001b[1mwandb\u001b[0m: \tepochs: 15\n",
      "\u001b[34m\u001b[1mwandb\u001b[0m: \tinit_method: None\n",
      "\u001b[34m\u001b[1mwandb\u001b[0m: \tkernel_size: 3\n",
      "\u001b[34m\u001b[1mwandb\u001b[0m: \tlearning_rate: 0.01\n",
      "\u001b[34m\u001b[1mwandb\u001b[0m: \toptimizer: SGD\n",
      "\u001b[34m\u001b[1mwandb\u001b[0m: \tpadding: 1\n",
      "\u001b[34m\u001b[1mwandb\u001b[0m: \tstride: 1\n"
     ]
    },
    {
     "data": {
      "text/html": [
       "Tracking run with wandb version 0.14.2"
      ],
      "text/plain": [
       "<IPython.core.display.HTML object>"
      ]
     },
     "metadata": {},
     "output_type": "display_data"
    },
    {
     "data": {
      "text/html": [
       "Run data is saved locally in <code>/Users/yvokeller/Code/studies/del/deep-learning/wandb/run-20230413_092356-yintey8m</code>"
      ],
      "text/plain": [
       "<IPython.core.display.HTML object>"
      ]
     },
     "metadata": {},
     "output_type": "display_data"
    },
    {
     "data": {
      "text/html": [
       "Syncing run <strong><a href='https://wandb.ai/yvokeller/deep-learning/runs/yintey8m' target=\"_blank\">desert-sweep-3</a></strong> to <a href='https://wandb.ai/yvokeller/deep-learning' target=\"_blank\">Weights & Biases</a> (<a href='https://wandb.me/run' target=\"_blank\">docs</a>)<br/>Sweep page: <a href='https://wandb.ai/yvokeller/deep-learning/sweeps/3yfan4jc' target=\"_blank\">https://wandb.ai/yvokeller/deep-learning/sweeps/3yfan4jc</a>"
      ],
      "text/plain": [
       "<IPython.core.display.HTML object>"
      ]
     },
     "metadata": {},
     "output_type": "display_data"
    },
    {
     "data": {
      "text/html": [
       " View project at <a href='https://wandb.ai/yvokeller/deep-learning' target=\"_blank\">https://wandb.ai/yvokeller/deep-learning</a>"
      ],
      "text/plain": [
       "<IPython.core.display.HTML object>"
      ]
     },
     "metadata": {},
     "output_type": "display_data"
    },
    {
     "data": {
      "text/html": [
       " View sweep at <a href='https://wandb.ai/yvokeller/deep-learning/sweeps/3yfan4jc' target=\"_blank\">https://wandb.ai/yvokeller/deep-learning/sweeps/3yfan4jc</a>"
      ],
      "text/plain": [
       "<IPython.core.display.HTML object>"
      ]
     },
     "metadata": {},
     "output_type": "display_data"
    },
    {
     "data": {
      "text/html": [
       " View run at <a href='https://wandb.ai/yvokeller/deep-learning/runs/yintey8m' target=\"_blank\">https://wandb.ai/yvokeller/deep-learning/runs/yintey8m</a>"
      ],
      "text/plain": [
       "<IPython.core.display.HTML object>"
      ]
     },
     "metadata": {},
     "output_type": "display_data"
    },
    {
     "name": "stderr",
     "output_type": "stream",
     "text": [
      "/opt/homebrew/Caskroom/miniforge/base/envs/deep-learning/lib/python3.10/site-packages/lightning/pytorch/loggers/wandb.py:395: UserWarning: There is a wandb run already in progress and newly created instances of `WandbLogger` will reuse this run. If this is not desired, call `wandb.finish()` before instantiating `WandbLogger`.\n",
      "  rank_zero_warn(\n",
      "GPU available: True (mps), used: True\n",
      "TPU available: False, using: 0 TPU cores\n",
      "IPU available: False, using: 0 IPUs\n",
      "HPU available: False, using: 0 HPUs\n",
      "\n",
      "  | Name           | Type               | Params\n",
      "------------------------------------------------------\n",
      "0 | conv1          | Conv2d             | 896   \n",
      "1 | conv2          | Conv2d             | 18.5 K\n",
      "2 | pool1          | MaxPool2d          | 0     \n",
      "3 | conv3          | Conv2d             | 73.9 K\n",
      "4 | conv4          | Conv2d             | 295 K \n",
      "5 | pool2          | MaxPool2d          | 0     \n",
      "6 | fc1            | Linear             | 8.4 M \n",
      "7 | fc2            | Linear             | 5.1 K \n",
      "8 | train_accuracy | MulticlassAccuracy | 0     \n",
      "9 | val_accuracy   | MulticlassAccuracy | 0     \n",
      "------------------------------------------------------\n",
      "8.8 M     Trainable params\n",
      "0         Non-trainable params\n",
      "8.8 M     Total params\n",
      "35.131    Total estimated model params size (MB)\n",
      "\u001b[34m\u001b[1mwandb\u001b[0m: \u001b[33mWARNING\u001b[0m Config item 'learning_rate' was locked by 'sweep' (ignored update).\n",
      "\u001b[34m\u001b[1mwandb\u001b[0m: \u001b[33mWARNING\u001b[0m Config item 'optimizer' was locked by 'sweep' (ignored update).\n",
      "\u001b[34m\u001b[1mwandb\u001b[0m: \u001b[33mWARNING\u001b[0m Config item 'init_method' was locked by 'sweep' (ignored update).\n",
      "\u001b[34m\u001b[1mwandb\u001b[0m: \u001b[33mWARNING\u001b[0m Config item 'kernel_size' was locked by 'sweep' (ignored update).\n",
      "\u001b[34m\u001b[1mwandb\u001b[0m: \u001b[33mWARNING\u001b[0m Config item 'stride' was locked by 'sweep' (ignored update).\n",
      "\u001b[34m\u001b[1mwandb\u001b[0m: \u001b[33mWARNING\u001b[0m Config item 'padding' was locked by 'sweep' (ignored update).\n",
      "\u001b[34m\u001b[1mwandb\u001b[0m: \u001b[33mWARNING\u001b[0m Config item 'dilation' was locked by 'sweep' (ignored update).\n"
     ]
    },
    {
     "data": {
      "application/vnd.jupyter.widget-view+json": {
       "model_id": "6d25643b44554a11abbb58f1f0d8e76f",
       "version_major": 2,
       "version_minor": 0
      },
      "text/plain": [
       "Sanity Checking: 0it [00:00, ?it/s]"
      ]
     },
     "metadata": {},
     "output_type": "display_data"
    },
    {
     "name": "stderr",
     "output_type": "stream",
     "text": [
      "/opt/homebrew/Caskroom/miniforge/base/envs/deep-learning/lib/python3.10/site-packages/torch/functional.py:791: UserWarning: The operator 'aten::_unique2' is not currently supported on the MPS backend and will fall back to run on the CPU. This may have performance implications. (Triggered internally at /Users/runner/work/pytorch/pytorch/pytorch/aten/src/ATen/mps/MPSFallback.mm:11.)\n",
      "  output, inverse_indices, counts = torch._unique2(\n"
     ]
    },
    {
     "data": {
      "application/vnd.jupyter.widget-view+json": {
       "model_id": "7eccf48a14e34e69a2086a7f0937e815",
       "version_major": 2,
       "version_minor": 0
      },
      "text/plain": [
       "Training: 0it [00:00, ?it/s]"
      ]
     },
     "metadata": {},
     "output_type": "display_data"
    },
    {
     "data": {
      "application/vnd.jupyter.widget-view+json": {
       "model_id": "8773de2601b64ba8b8589e0f4abaa618",
       "version_major": 2,
       "version_minor": 0
      },
      "text/plain": [
       "Validation: 0it [00:00, ?it/s]"
      ]
     },
     "metadata": {},
     "output_type": "display_data"
    },
    {
     "data": {
      "application/vnd.jupyter.widget-view+json": {
       "model_id": "599215fb9bbe462e97a6b6a6005ac99f",
       "version_major": 2,
       "version_minor": 0
      },
      "text/plain": [
       "Validation: 0it [00:00, ?it/s]"
      ]
     },
     "metadata": {},
     "output_type": "display_data"
    },
    {
     "data": {
      "application/vnd.jupyter.widget-view+json": {
       "model_id": "c87eda21d251430da13413b25696e295",
       "version_major": 2,
       "version_minor": 0
      },
      "text/plain": [
       "Validation: 0it [00:00, ?it/s]"
      ]
     },
     "metadata": {},
     "output_type": "display_data"
    },
    {
     "data": {
      "application/vnd.jupyter.widget-view+json": {
       "model_id": "47d4655846684153901a58a6fabe8111",
       "version_major": 2,
       "version_minor": 0
      },
      "text/plain": [
       "Validation: 0it [00:00, ?it/s]"
      ]
     },
     "metadata": {},
     "output_type": "display_data"
    },
    {
     "data": {
      "application/vnd.jupyter.widget-view+json": {
       "model_id": "b826f21e7d674205aad9deedd24eb208",
       "version_major": 2,
       "version_minor": 0
      },
      "text/plain": [
       "Validation: 0it [00:00, ?it/s]"
      ]
     },
     "metadata": {},
     "output_type": "display_data"
    },
    {
     "data": {
      "application/vnd.jupyter.widget-view+json": {
       "model_id": "fb611774ba504758a992c9cc605e95ff",
       "version_major": 2,
       "version_minor": 0
      },
      "text/plain": [
       "Validation: 0it [00:00, ?it/s]"
      ]
     },
     "metadata": {},
     "output_type": "display_data"
    },
    {
     "data": {
      "application/vnd.jupyter.widget-view+json": {
       "model_id": "3d8b8ba2236b4ea69bc5f0a2d822bc0e",
       "version_major": 2,
       "version_minor": 0
      },
      "text/plain": [
       "Validation: 0it [00:00, ?it/s]"
      ]
     },
     "metadata": {},
     "output_type": "display_data"
    },
    {
     "data": {
      "application/vnd.jupyter.widget-view+json": {
       "model_id": "0ac6e770cb8346259955e45599b17a74",
       "version_major": 2,
       "version_minor": 0
      },
      "text/plain": [
       "Validation: 0it [00:00, ?it/s]"
      ]
     },
     "metadata": {},
     "output_type": "display_data"
    },
    {
     "data": {
      "application/vnd.jupyter.widget-view+json": {
       "model_id": "e8e9026fffe64bf99b7f63a71040016c",
       "version_major": 2,
       "version_minor": 0
      },
      "text/plain": [
       "Validation: 0it [00:00, ?it/s]"
      ]
     },
     "metadata": {},
     "output_type": "display_data"
    },
    {
     "data": {
      "application/vnd.jupyter.widget-view+json": {
       "model_id": "4446182f78224d13ad4d640516e6d95e",
       "version_major": 2,
       "version_minor": 0
      },
      "text/plain": [
       "Validation: 0it [00:00, ?it/s]"
      ]
     },
     "metadata": {},
     "output_type": "display_data"
    },
    {
     "data": {
      "application/vnd.jupyter.widget-view+json": {
       "model_id": "d117e0db4c03495cad9d4e3bc9a5363b",
       "version_major": 2,
       "version_minor": 0
      },
      "text/plain": [
       "Validation: 0it [00:00, ?it/s]"
      ]
     },
     "metadata": {},
     "output_type": "display_data"
    },
    {
     "data": {
      "application/vnd.jupyter.widget-view+json": {
       "model_id": "7943b7c87d694ae9bec6b4c6962445db",
       "version_major": 2,
       "version_minor": 0
      },
      "text/plain": [
       "Validation: 0it [00:00, ?it/s]"
      ]
     },
     "metadata": {},
     "output_type": "display_data"
    },
    {
     "data": {
      "application/vnd.jupyter.widget-view+json": {
       "model_id": "0e112e65af70453db02898cb718bbd7e",
       "version_major": 2,
       "version_minor": 0
      },
      "text/plain": [
       "Validation: 0it [00:00, ?it/s]"
      ]
     },
     "metadata": {},
     "output_type": "display_data"
    },
    {
     "data": {
      "application/vnd.jupyter.widget-view+json": {
       "model_id": "e9a8a574450b45e0af989218f66bdf88",
       "version_major": 2,
       "version_minor": 0
      },
      "text/plain": [
       "Validation: 0it [00:00, ?it/s]"
      ]
     },
     "metadata": {},
     "output_type": "display_data"
    },
    {
     "data": {
      "application/vnd.jupyter.widget-view+json": {
       "model_id": "c3d56e0cef20418da79bdf2203d4409d",
       "version_major": 2,
       "version_minor": 0
      },
      "text/plain": [
       "Validation: 0it [00:00, ?it/s]"
      ]
     },
     "metadata": {},
     "output_type": "display_data"
    },
    {
     "name": "stderr",
     "output_type": "stream",
     "text": [
      "`Trainer.fit` stopped: `max_epochs=15` reached.\n"
     ]
    },
    {
     "data": {
      "text/html": [
       "Waiting for W&B process to finish... <strong style=\"color:green\">(success).</strong>"
      ],
      "text/plain": [
       "<IPython.core.display.HTML object>"
      ]
     },
     "metadata": {},
     "output_type": "display_data"
    },
    {
     "data": {
      "application/vnd.jupyter.widget-view+json": {
       "model_id": "41b2eab4884c43d7bd89c30a12ff5d34",
       "version_major": 2,
       "version_minor": 0
      },
      "text/plain": [
       "VBox(children=(Label(value='0.001 MB of 0.012 MB uploaded (0.000 MB deduped)\\r'), FloatProgress(value=0.073776…"
      ]
     },
     "metadata": {},
     "output_type": "display_data"
    },
    {
     "data": {
      "text/html": [
       "<style>\n",
       "    table.wandb td:nth-child(1) { padding: 0 10px; text-align: left ; width: auto;} td:nth-child(2) {text-align: left ; width: 100%}\n",
       "    .wandb-row { display: flex; flex-direction: row; flex-wrap: wrap; justify-content: flex-start; width: 100% }\n",
       "    .wandb-col { display: flex; flex-direction: column; flex-basis: 100%; flex: 1; padding: 10px; }\n",
       "    </style>\n",
       "<div class=\"wandb-row\"><div class=\"wandb-col\"><h3>Run history:</h3><br/><table class=\"wandb\"><tr><td>epoch</td><td>▁▁▁▁▁▁▂▂▃▃▃▃▃▃▃▃▄▄▄▅▅▅▅▅▅▅▅▆▆▆▇▇▇▇▇▇▇███</td></tr><tr><td>train_accuracy</td><td>▁▃▃▄▅▅▅▆▆▇▇████</td></tr><tr><td>train_loss_epoch</td><td>█▆▆▅▅▄▄▃▃▂▂▁▁▁▁</td></tr><tr><td>train_loss_step</td><td>█▇▇▆▇▅▅▆▅▄▆▅▄▄▃▄▄▃▃▃▂▃▂▂▂▂▂▂▂▁▂▁▁▁▁▁▁▁▁▁</td></tr><tr><td>trainer/global_step</td><td>▁▁▁▂▂▁▂▂▂▃▃▃▃▃▄▄▄▄▂▅▅▅▅▂▅▆▂▆▆▆▆▂▇▇▇▇███▂</td></tr><tr><td>val_accuracy</td><td>▁▃▄▅▆▇▇▇███▇███</td></tr><tr><td>val_loss_epoch</td><td>█▅▄▃▂▁▁▁▁▂▃▆▅▆▇</td></tr><tr><td>val_loss_step</td><td>▄▅▅▄▃▄▃▄▂▄▂▂▃▁▁▁▃▃▃▄▄▄▂▃▃▁▇▃▃▃▂▁▃▃█▅▄▄▄▄</td></tr></table><br/></div><div class=\"wandb-col\"><h3>Run summary:</h3><br/><table class=\"wandb\"><tr><td>epoch</td><td>14</td></tr><tr><td>train_accuracy</td><td>0.9761</td></tr><tr><td>train_loss_epoch</td><td>0.07495</td></tr><tr><td>train_loss_step</td><td>0.00719</td></tr><tr><td>trainer/global_step</td><td>23444</td></tr><tr><td>val_accuracy</td><td>0.7076</td></tr><tr><td>val_loss_epoch</td><td>1.58903</td></tr><tr><td>val_loss_step</td><td>2.30158</td></tr></table><br/></div></div>"
      ],
      "text/plain": [
       "<IPython.core.display.HTML object>"
      ]
     },
     "metadata": {},
     "output_type": "display_data"
    },
    {
     "data": {
      "text/html": [
       " View run <strong style=\"color:#cdcd00\">desert-sweep-3</strong> at: <a href='https://wandb.ai/yvokeller/deep-learning/runs/yintey8m' target=\"_blank\">https://wandb.ai/yvokeller/deep-learning/runs/yintey8m</a><br/>Synced 6 W&B file(s), 0 media file(s), 0 artifact file(s) and 0 other file(s)"
      ],
      "text/plain": [
       "<IPython.core.display.HTML object>"
      ]
     },
     "metadata": {},
     "output_type": "display_data"
    },
    {
     "data": {
      "text/html": [
       "Find logs at: <code>./wandb/run-20230413_092356-yintey8m/logs</code>"
      ],
      "text/plain": [
       "<IPython.core.display.HTML object>"
      ]
     },
     "metadata": {},
     "output_type": "display_data"
    },
    {
     "name": "stderr",
     "output_type": "stream",
     "text": [
      "\u001b[34m\u001b[1mwandb\u001b[0m: Agent Starting Run: 1xhlvrzq with config:\n",
      "\u001b[34m\u001b[1mwandb\u001b[0m: \tbatch_size: 32\n",
      "\u001b[34m\u001b[1mwandb\u001b[0m: \tdilation: 1\n",
      "\u001b[34m\u001b[1mwandb\u001b[0m: \tepochs: 15\n",
      "\u001b[34m\u001b[1mwandb\u001b[0m: \tinit_method: None\n",
      "\u001b[34m\u001b[1mwandb\u001b[0m: \tkernel_size: 3\n",
      "\u001b[34m\u001b[1mwandb\u001b[0m: \tlearning_rate: 0.01\n",
      "\u001b[34m\u001b[1mwandb\u001b[0m: \toptimizer: SGD\n",
      "\u001b[34m\u001b[1mwandb\u001b[0m: \tpadding: 1\n",
      "\u001b[34m\u001b[1mwandb\u001b[0m: \tstride: 2\n"
     ]
    },
    {
     "data": {
      "text/html": [
       "Tracking run with wandb version 0.14.2"
      ],
      "text/plain": [
       "<IPython.core.display.HTML object>"
      ]
     },
     "metadata": {},
     "output_type": "display_data"
    },
    {
     "data": {
      "text/html": [
       "Run data is saved locally in <code>/Users/yvokeller/Code/studies/del/deep-learning/wandb/run-20230413_095557-1xhlvrzq</code>"
      ],
      "text/plain": [
       "<IPython.core.display.HTML object>"
      ]
     },
     "metadata": {},
     "output_type": "display_data"
    },
    {
     "data": {
      "text/html": [
       "Syncing run <strong><a href='https://wandb.ai/yvokeller/deep-learning/runs/1xhlvrzq' target=\"_blank\">dark-sweep-4</a></strong> to <a href='https://wandb.ai/yvokeller/deep-learning' target=\"_blank\">Weights & Biases</a> (<a href='https://wandb.me/run' target=\"_blank\">docs</a>)<br/>Sweep page: <a href='https://wandb.ai/yvokeller/deep-learning/sweeps/3yfan4jc' target=\"_blank\">https://wandb.ai/yvokeller/deep-learning/sweeps/3yfan4jc</a>"
      ],
      "text/plain": [
       "<IPython.core.display.HTML object>"
      ]
     },
     "metadata": {},
     "output_type": "display_data"
    },
    {
     "data": {
      "text/html": [
       " View project at <a href='https://wandb.ai/yvokeller/deep-learning' target=\"_blank\">https://wandb.ai/yvokeller/deep-learning</a>"
      ],
      "text/plain": [
       "<IPython.core.display.HTML object>"
      ]
     },
     "metadata": {},
     "output_type": "display_data"
    },
    {
     "data": {
      "text/html": [
       " View sweep at <a href='https://wandb.ai/yvokeller/deep-learning/sweeps/3yfan4jc' target=\"_blank\">https://wandb.ai/yvokeller/deep-learning/sweeps/3yfan4jc</a>"
      ],
      "text/plain": [
       "<IPython.core.display.HTML object>"
      ]
     },
     "metadata": {},
     "output_type": "display_data"
    },
    {
     "data": {
      "text/html": [
       " View run at <a href='https://wandb.ai/yvokeller/deep-learning/runs/1xhlvrzq' target=\"_blank\">https://wandb.ai/yvokeller/deep-learning/runs/1xhlvrzq</a>"
      ],
      "text/plain": [
       "<IPython.core.display.HTML object>"
      ]
     },
     "metadata": {},
     "output_type": "display_data"
    },
    {
     "name": "stderr",
     "output_type": "stream",
     "text": [
      "\u001b[34m\u001b[1mwandb\u001b[0m: Invalid combination of hyperparameters. Skipping this run.\n"
     ]
    },
    {
     "data": {
      "text/html": [
       "Waiting for W&B process to finish... <strong style=\"color:green\">(success).</strong>"
      ],
      "text/plain": [
       "<IPython.core.display.HTML object>"
      ]
     },
     "metadata": {},
     "output_type": "display_data"
    },
    {
     "data": {
      "text/html": [
       " View run <strong style=\"color:#cdcd00\">dark-sweep-4</strong> at: <a href='https://wandb.ai/yvokeller/deep-learning/runs/1xhlvrzq' target=\"_blank\">https://wandb.ai/yvokeller/deep-learning/runs/1xhlvrzq</a><br/>Synced 6 W&B file(s), 0 media file(s), 0 artifact file(s) and 0 other file(s)"
      ],
      "text/plain": [
       "<IPython.core.display.HTML object>"
      ]
     },
     "metadata": {},
     "output_type": "display_data"
    },
    {
     "data": {
      "text/html": [
       "Find logs at: <code>./wandb/run-20230413_095557-1xhlvrzq/logs</code>"
      ],
      "text/plain": [
       "<IPython.core.display.HTML object>"
      ]
     },
     "metadata": {},
     "output_type": "display_data"
    },
    {
     "name": "stderr",
     "output_type": "stream",
     "text": [
      "\u001b[34m\u001b[1mwandb\u001b[0m: Agent Starting Run: o62otwq7 with config:\n",
      "\u001b[34m\u001b[1mwandb\u001b[0m: \tbatch_size: 32\n",
      "\u001b[34m\u001b[1mwandb\u001b[0m: \tdilation: 1\n",
      "\u001b[34m\u001b[1mwandb\u001b[0m: \tepochs: 15\n",
      "\u001b[34m\u001b[1mwandb\u001b[0m: \tinit_method: None\n",
      "\u001b[34m\u001b[1mwandb\u001b[0m: \tkernel_size: 3\n",
      "\u001b[34m\u001b[1mwandb\u001b[0m: \tlearning_rate: 0.01\n",
      "\u001b[34m\u001b[1mwandb\u001b[0m: \toptimizer: SGD\n",
      "\u001b[34m\u001b[1mwandb\u001b[0m: \tpadding: 2\n",
      "\u001b[34m\u001b[1mwandb\u001b[0m: \tstride: 1\n"
     ]
    },
    {
     "data": {
      "text/html": [
       "Tracking run with wandb version 0.14.2"
      ],
      "text/plain": [
       "<IPython.core.display.HTML object>"
      ]
     },
     "metadata": {},
     "output_type": "display_data"
    },
    {
     "data": {
      "text/html": [
       "Run data is saved locally in <code>/Users/yvokeller/Code/studies/del/deep-learning/wandb/run-20230413_095607-o62otwq7</code>"
      ],
      "text/plain": [
       "<IPython.core.display.HTML object>"
      ]
     },
     "metadata": {},
     "output_type": "display_data"
    },
    {
     "data": {
      "text/html": [
       "Syncing run <strong><a href='https://wandb.ai/yvokeller/deep-learning/runs/o62otwq7' target=\"_blank\">sandy-sweep-5</a></strong> to <a href='https://wandb.ai/yvokeller/deep-learning' target=\"_blank\">Weights & Biases</a> (<a href='https://wandb.me/run' target=\"_blank\">docs</a>)<br/>Sweep page: <a href='https://wandb.ai/yvokeller/deep-learning/sweeps/3yfan4jc' target=\"_blank\">https://wandb.ai/yvokeller/deep-learning/sweeps/3yfan4jc</a>"
      ],
      "text/plain": [
       "<IPython.core.display.HTML object>"
      ]
     },
     "metadata": {},
     "output_type": "display_data"
    },
    {
     "data": {
      "text/html": [
       " View project at <a href='https://wandb.ai/yvokeller/deep-learning' target=\"_blank\">https://wandb.ai/yvokeller/deep-learning</a>"
      ],
      "text/plain": [
       "<IPython.core.display.HTML object>"
      ]
     },
     "metadata": {},
     "output_type": "display_data"
    },
    {
     "data": {
      "text/html": [
       " View sweep at <a href='https://wandb.ai/yvokeller/deep-learning/sweeps/3yfan4jc' target=\"_blank\">https://wandb.ai/yvokeller/deep-learning/sweeps/3yfan4jc</a>"
      ],
      "text/plain": [
       "<IPython.core.display.HTML object>"
      ]
     },
     "metadata": {},
     "output_type": "display_data"
    },
    {
     "data": {
      "text/html": [
       " View run at <a href='https://wandb.ai/yvokeller/deep-learning/runs/o62otwq7' target=\"_blank\">https://wandb.ai/yvokeller/deep-learning/runs/o62otwq7</a>"
      ],
      "text/plain": [
       "<IPython.core.display.HTML object>"
      ]
     },
     "metadata": {},
     "output_type": "display_data"
    },
    {
     "name": "stderr",
     "output_type": "stream",
     "text": [
      "/opt/homebrew/Caskroom/miniforge/base/envs/deep-learning/lib/python3.10/site-packages/lightning/pytorch/loggers/wandb.py:395: UserWarning: There is a wandb run already in progress and newly created instances of `WandbLogger` will reuse this run. If this is not desired, call `wandb.finish()` before instantiating `WandbLogger`.\n",
      "  rank_zero_warn(\n",
      "GPU available: True (mps), used: True\n",
      "TPU available: False, using: 0 TPU cores\n",
      "IPU available: False, using: 0 IPUs\n",
      "HPU available: False, using: 0 HPUs\n",
      "\n",
      "  | Name           | Type               | Params\n",
      "------------------------------------------------------\n",
      "0 | conv1          | Conv2d             | 896   \n",
      "1 | conv2          | Conv2d             | 18.5 K\n",
      "2 | pool1          | MaxPool2d          | 0     \n",
      "3 | conv3          | Conv2d             | 73.9 K\n",
      "4 | conv4          | Conv2d             | 295 K \n",
      "5 | pool2          | MaxPool2d          | 0     \n",
      "6 | fc1            | Linear             | 8.4 M \n",
      "7 | fc2            | Linear             | 5.1 K \n",
      "8 | train_accuracy | MulticlassAccuracy | 0     \n",
      "9 | val_accuracy   | MulticlassAccuracy | 0     \n",
      "------------------------------------------------------\n",
      "8.8 M     Trainable params\n",
      "0         Non-trainable params\n",
      "8.8 M     Total params\n",
      "35.131    Total estimated model params size (MB)\n",
      "\u001b[34m\u001b[1mwandb\u001b[0m: \u001b[33mWARNING\u001b[0m Config item 'learning_rate' was locked by 'sweep' (ignored update).\n",
      "\u001b[34m\u001b[1mwandb\u001b[0m: \u001b[33mWARNING\u001b[0m Config item 'optimizer' was locked by 'sweep' (ignored update).\n",
      "\u001b[34m\u001b[1mwandb\u001b[0m: \u001b[33mWARNING\u001b[0m Config item 'init_method' was locked by 'sweep' (ignored update).\n",
      "\u001b[34m\u001b[1mwandb\u001b[0m: \u001b[33mWARNING\u001b[0m Config item 'kernel_size' was locked by 'sweep' (ignored update).\n",
      "\u001b[34m\u001b[1mwandb\u001b[0m: \u001b[33mWARNING\u001b[0m Config item 'stride' was locked by 'sweep' (ignored update).\n",
      "\u001b[34m\u001b[1mwandb\u001b[0m: \u001b[33mWARNING\u001b[0m Config item 'padding' was locked by 'sweep' (ignored update).\n",
      "\u001b[34m\u001b[1mwandb\u001b[0m: \u001b[33mWARNING\u001b[0m Config item 'dilation' was locked by 'sweep' (ignored update).\n"
     ]
    },
    {
     "data": {
      "application/vnd.jupyter.widget-view+json": {
       "model_id": "47de638da88646118fbc2807878a4fab",
       "version_major": 2,
       "version_minor": 0
      },
      "text/plain": [
       "Sanity Checking: 0it [00:00, ?it/s]"
      ]
     },
     "metadata": {},
     "output_type": "display_data"
    },
    {
     "ename": "",
     "evalue": "",
     "output_type": "error",
     "traceback": [
      "\u001b[1;31mCanceled future for execute_request message before replies were done"
     ]
    },
    {
     "ename": "",
     "evalue": "",
     "output_type": "error",
     "traceback": [
      "\u001b[1;31mThe Kernel crashed while executing code in the the current cell or a previous cell. Please review the code in the cell(s) to identify a possible cause of the failure. Click <a href='https://aka.ms/vscodeJupyterKernelCrash'>here</a> for more info. View Jupyter <a href='command:jupyter.viewOutput'>log</a> for further details."
     ]
    }
   ],
   "source": [
    "# Configure Weights & Biases sweeps\n",
    "sweep_config = {\n",
    "    \"name\": \"medium-cnn-sweep\",\n",
    "    \"method\": \"grid\",\n",
    "    \"metric\": {\n",
    "        \"name\": \"val_accuracy\",\n",
    "        \"goal\": \"maximize\",\n",
    "    },\n",
    "    \"parameters\": {\n",
    "        \"epochs\": {\"values\": [15]},\n",
    "        \"learning_rate\": {\"values\": [1e-2, 1e-3, 1e-4]},\n",
    "        \"batch_size\": {\"values\": [32, 64, 128]},\n",
    "        \"optimizer\": {\"values\": [\"SGD\"]},\n",
    "        \"init_method\": {\"values\": [None, \"xavier_uniform\", \"kaiming_uniform\"]},\n",
    "        \"kernel_size\": {\"values\": [3, 5]},\n",
    "        \"stride\": {\"values\": [1, 2]}, # 1 is default\n",
    "        \"padding\": {\"values\": [0, 1, 2]}, # 0 is default\n",
    "        \"dilation\": {\"values\": [1, 2]}, # 1 is default\n",
    "    },\n",
    "}\n",
    "\n",
    "# Setup Weight & Biases\n",
    "sweep_id = wandb.sweep(\n",
    "    sweep_config, entity='yvokeller', project='deep-learning'\n",
    ")\n",
    "\n",
    "def is_valid_hyperparameters(kernel_size, stride, padding, dilation):\n",
    "    input_size = 32  # Assuming the input image size is 32x32\n",
    "    num_pooling_layers = 2\n",
    "\n",
    "    for _ in range(4):  # There are four convolutional layers in the network\n",
    "        output_size = (input_size + 2 * padding - dilation * (kernel_size - 1) - 1) // stride + 1\n",
    "        if output_size < kernel_size:\n",
    "            return False\n",
    "        input_size = output_size\n",
    "        if num_pooling_layers > 0:\n",
    "            input_size = input_size // 2  # Divide by 2 for each max-pooling layer\n",
    "            num_pooling_layers -= 1\n",
    "\n",
    "    return True\n",
    "\n",
    "# Create the PyTorch Lightning Trainer\n",
    "def train_sweep():\n",
    "    with wandb.init() as run:\n",
    "        # Check if the combination of hyperparameters is valid\n",
    "        if not is_valid_hyperparameters(run.config.kernel_size, run.config.stride, run.config.padding, run.config.dilation):\n",
    "            wandb.termlog(\"Invalid combination of hyperparameters. Skipping this run.\")\n",
    "            return\n",
    "        \n",
    "        # Overwrite the random run names chosen by wandb\n",
    "        name_str = (\n",
    "            f\"lr_{run.config.learning_rate}_\"\n",
    "            f\"opt_{run.config.optimizer}_\"\n",
    "            f\"bs_{run.config.batch_size}_\"\n",
    "            f\"ks_{run.config.kernel_size}_\"\n",
    "            f\"str_{run.config.stride}_\"\n",
    "            f\"pad_{run.config.padding}_\"\n",
    "            f\"ini_{run.config.init_method}\"\n",
    "        )\n",
    "        run.name = name_str\n",
    "\n",
    "        model = MediumCNN(\n",
    "            learning_rate=wandb.config.learning_rate,\n",
    "            optimizer=wandb.config.optimizer,\n",
    "            init_method=wandb.config.init_method,\n",
    "            kernel_size=wandb.config.kernel_size,\n",
    "            stride=wandb.config.stride,\n",
    "            padding=wandb.config.padding,\n",
    "            dilation=wandb.config.dilation\n",
    "        )\n",
    "\n",
    "        trainer = li.Trainer(\n",
    "            max_epochs=wandb.config.epochs,\n",
    "            logger=WandbLogger(entity='yvokeller', project='deep-learning'),\n",
    "            log_every_n_steps=1,\n",
    "            enable_progress_bar=True,\n",
    "            callbacks=[TQDMProgressBar(refresh_rate=10)] # update every 10 batches\n",
    "        )\n",
    "\n",
    "        train_dataloader, val_dataloader = get_dataloaders(batch_size=wandb.config.batch_size)\n",
    "\n",
    "        trainer.fit(model, train_dataloader, val_dataloader)\n",
    "\n",
    "# Run the sweep\n",
    "wandb.agent(sweep_id, function=train_sweep)"
   ]
  }
 ],
 "metadata": {
  "kernelspec": {
   "display_name": "Python 3 (ipykernel)",
   "language": "python",
   "name": "python3"
  },
  "language_info": {
   "codemirror_mode": {
    "name": "ipython",
    "version": 3
   },
   "file_extension": ".py",
   "mimetype": "text/x-python",
   "name": "python",
   "nbconvert_exporter": "python",
   "pygments_lexer": "ipython3",
   "version": "3.10.9"
  },
  "vscode": {
   "interpreter": {
    "hash": "d31856392a3b7d19a5dbbaa01c740e171fc50ddf7f6bcdeafd52271aa862013f"
   }
  }
 },
 "nbformat": 4,
 "nbformat_minor": 2
}
